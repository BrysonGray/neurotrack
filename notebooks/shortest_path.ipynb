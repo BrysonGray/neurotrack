{
 "cells": [
  {
   "cell_type": "code",
   "execution_count": 1,
   "id": "36d2f7f0",
   "metadata": {},
   "outputs": [],
   "source": [
    "import numpy as np\n",
    "import os"
   ]
  },
  {
   "cell_type": "code",
   "execution_count": 32,
   "id": "22651dc6",
   "metadata": {},
   "outputs": [],
   "source": [
    "def BFS(adj, src, dest, v, pred, dist):\n",
    "    \"\"\" Breadth first search\n",
    "\n",
    "    a modified version of BFS that stores predecessor\n",
    "    of each vertex in array pred and its distance from source in array dist\n",
    "\n",
    "    Parameters\n",
    "    ----------\n",
    "    adj : list of dicts\n",
    "        adjacency list of transformations between spaces\n",
    "    src: int\n",
    "        int value given by corresponding source in spaces dict\n",
    "    dest: int \n",
    "        dest value given by corresponding destination in spaces dict\n",
    "    v: int\n",
    "        length of spaces dict\n",
    "    pred: list of ints\n",
    "        stores predecessor of vertex i at pred[i]\n",
    "    dist: list of ints\n",
    "        stores distance (by number of vertices) of vertex i from source vertex\n",
    "\n",
    "    Returns\n",
    "    -------\n",
    "    bool\n",
    "        True if a path from src to dest is found and False otherwise\n",
    "\n",
    "    \"\"\"\n",
    " \n",
    "\n",
    "    queue = []\n",
    "  \n",
    "    visited = [False for i in range(v)]\n",
    "    # for each space we initialize the distance from src to be a large number and the predecessor to be -1\n",
    "    for i in range(v):\n",
    " \n",
    "        dist[i] = 1000000\n",
    "        pred[i] = -1\n",
    "     \n",
    "    # visit source first. Distance from source to itself is 0\n",
    "    visited[src] = True\n",
    "    dist[src] = 0\n",
    "    queue.append(src)\n",
    "  \n",
    "    # BFS algorithm\n",
    "    while (len(queue) != 0):\n",
    "        u = queue[0]\n",
    "        queue.pop(0)\n",
    "        for i in range(len(adj[u])):\n",
    "         \n",
    "            if (visited[list(adj[u])[i]] == False):\n",
    "                visited[list(adj[u])[i]] = True\n",
    "                dist[list(adj[u])[i]] = dist[u] + 1\n",
    "                pred[list(adj[u])[i]] = u\n",
    "                queue.append(list(adj[u])[i])\n",
    "  \n",
    "                # We stop BFS when we find\n",
    "                # destination.\n",
    "                if (list(adj[u])[i] == dest):\n",
    "                    return True\n",
    "  \n",
    "    return False\n",
    "  \n",
    "  \n",
    "def find_shortest_path(adj, src, dest, v):\n",
    "    \"\"\" Find Shortest Path\n",
    "\n",
    "    Finds the shortest path between src and dest in the adjacency list and prints its length\n",
    "\n",
    "    Parameters\n",
    "    ----------\n",
    "    adj : list of dicts\n",
    "        adjacency list of transformations between spaces\n",
    "    src: int\n",
    "        int value given by corresponding source in spaces dict\n",
    "    dest: int \n",
    "        dest value given by corresponding destination in spaces dict\n",
    "    v: int\n",
    "        length of spaces dict\n",
    "\n",
    "    Returns\n",
    "    -------\n",
    "    path : list of ints\n",
    "        path from src to dest using integer values of the adjacency list vertices. Integers can be converted to space names by the spaces dict.\n",
    "\n",
    "\n",
    "    Example\n",
    "    -------\n",
    "    >>> adj = [{1: ('outputs/MRI/HIST_REGISTERED_to_MRI/', 'f')},\n",
    "    ...        {2: ('outputs/CCF/MRI_to_CCF/', 'f'), 0: ('outputs/MRI/HIST_REGISTERED_to_MRI/', 'b')},\n",
    "    ...        {1: ('outputs/CCF/MRI_to_CCF/', 'b')},\n",
    "    ...        {}]\n",
    "    >>> path = find_shortest_path(adj, 0, 2, 4)\n",
    "    Shortest path length is: 2\n",
    "\n",
    "    >>> print(path)\n",
    "    [0,1,2]\n",
    "\n",
    "    >>> path = transformation_graph.find_shortest_path(adj, 0, 3, 4)\n",
    "    Given source and destination are not connected\n",
    "\n",
    "    \"\"\"\n",
    "     \n",
    "    pred=[0 for i in range(v)] # predecessor of space i in path from src to dest\n",
    "    dist=[0 for i in range(v)] # distance of vertex i by number of vertices from src\n",
    "  \n",
    "    if (BFS(adj, src, dest, v, pred, dist) == False):\n",
    "        print(\"Given source and destination are not connected\")\n",
    "        \n",
    "    # path stores the shortest path\n",
    "    path = []\n",
    "    crawl = dest\n",
    "    path.append(crawl)\n",
    "     \n",
    "    while (pred[crawl] != -1):\n",
    "        path.append(pred[crawl])\n",
    "        crawl = pred[crawl]\n",
    "     \n",
    "    path.reverse()\n",
    "\n",
    "    if len(path) > 1:\n",
    "        # distance from source is in distance array\n",
    "        print(\"Shortest path length is: \" + str(dist[dest]), end = '')\n",
    "\n",
    "    return path"
   ]
  },
  {
   "cell_type": "code",
   "execution_count": 27,
   "id": "07bcd242",
   "metadata": {},
   "outputs": [],
   "source": [
    "G = np.array([[0,0,0,1],\n",
    "         [0,1,0,1],\n",
    "         [0,1,0,0],\n",
    "         [1,1,0,0]])"
   ]
  },
  {
   "cell_type": "code",
   "execution_count": 28,
   "id": "c72bb91a",
   "metadata": {},
   "outputs": [],
   "source": [
    "idx = np.where(G != 0)"
   ]
  },
  {
   "cell_type": "code",
   "execution_count": 29,
   "id": "e4a79d0a",
   "metadata": {},
   "outputs": [
    {
     "name": "stdout",
     "output_type": "stream",
     "text": [
      "(array([0, 1, 1, 2, 3, 3]), array([3, 1, 3, 1, 0, 1]))\n"
     ]
    }
   ],
   "source": [
    "print(idx)"
   ]
  },
  {
   "cell_type": "code",
   "execution_count": 30,
   "id": "04baa443",
   "metadata": {},
   "outputs": [],
   "source": [
    "adj = []\n",
    "for i in range(np.max(idx[0])+1):\n",
    "    a = list(idx[1][np.where(idx[0]==i)])\n",
    "    adj.append(a)"
   ]
  },
  {
   "cell_type": "code",
   "execution_count": 31,
   "id": "2274d287",
   "metadata": {},
   "outputs": [
    {
     "name": "stdout",
     "output_type": "stream",
     "text": [
      "[[3], [1, 3], [1], [0, 1]]\n"
     ]
    }
   ],
   "source": [
    "print(adj)"
   ]
  },
  {
   "cell_type": "code",
   "execution_count": 34,
   "id": "e780d87b",
   "metadata": {},
   "outputs": [],
   "source": [
    "v = len(adj)\n",
    "src = 0\n",
    "dest = 3"
   ]
  },
  {
   "cell_type": "code",
   "execution_count": 35,
   "id": "6ed8dd8a",
   "metadata": {},
   "outputs": [
    {
     "name": "stdout",
     "output_type": "stream",
     "text": [
      "Shortest path length is: 1"
     ]
    },
    {
     "data": {
      "text/plain": [
       "[0, 3]"
      ]
     },
     "execution_count": 35,
     "metadata": {},
     "output_type": "execute_result"
    }
   ],
   "source": [
    "find_shortest_path(adj,src,dest, v)"
   ]
  }
 ],
 "metadata": {
  "kernelspec": {
   "display_name": "Python 3 (ipykernel)",
   "language": "python",
   "name": "python3"
  },
  "language_info": {
   "codemirror_mode": {
    "name": "ipython",
    "version": 3
   },
   "file_extension": ".py",
   "mimetype": "text/x-python",
   "name": "python",
   "nbconvert_exporter": "python",
   "pygments_lexer": "ipython3",
   "version": "3.9.7"
  }
 },
 "nbformat": 4,
 "nbformat_minor": 5
}
