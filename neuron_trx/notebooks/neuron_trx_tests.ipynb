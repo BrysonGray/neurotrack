{
 "cells": [
  {
   "cell_type": "code",
   "execution_count": 1,
   "metadata": {},
   "outputs": [],
   "source": [
    "%load_ext autoreload\n",
    "%autoreload 2\n",
    "%matplotlib widget"
   ]
  },
  {
   "cell_type": "code",
   "execution_count": 2,
   "metadata": {},
   "outputs": [],
   "source": [
    "import numpy as np\n",
    "import torch\n",
    "import matplotlib\n",
    "from matplotlib import pyplot as plt\n",
    "import random\n",
    "import json\n",
    "import sys\n",
    "sys.path.insert(0,'/home/brysongray/tractography/')\n",
    "import dqn_tracker\n",
    "import tracking_env\n",
    "import train_dqn_tracker\n",
    "from load_data import load_data\n",
    "from tracking_env import Environment, density_error_change\n",
    "from dqn_tracker import DQNModel\n",
    "import os\n",
    "from itertools import count\n",
    "from tqdm import tqdm\n",
    "from image import Image"
   ]
  },
  {
   "cell_type": "code",
   "execution_count": 11,
   "metadata": {},
   "outputs": [],
   "source": [
    "def show_state(env, finished=False, path_id=0, t=-1):\n",
    "    if finished:\n",
    "        paths = env.finished_paths\n",
    "    else:\n",
    "        paths = env.paths\n",
    "        path_id = env.head_id\n",
    "\n",
    "    state, _ = env.img.crop(paths[path_id][t], env.radius, pad=True, value=0.0)\n",
    "    state = state.detach().clone()\n",
    "    true_density_patch, _ = env.true_density.crop(paths[path_id][t], env.radius, pad=True)\n",
    "    mask = Image(env.mask, dx=[0.88,1.0,1.0])\n",
    "    mask_patch, _ = mask.crop(paths[path_id][t], env.radius, pad=True)\n",
    "    I = np.array(env.img.data.to('cpu'))\n",
    "    D = np.array(env.true_density.data.to('cpu'))\n",
    "    O = np.array(state.to('cpu'))\n",
    "    T = np.array(true_density_patch.to('cpu'))\n",
    "    M = np.array(mask_patch.to('cpu'))\n",
    "    fig, ax = plt.subplots(1,3)\n",
    "    # ax[0].imshow(D[0].max(axis=0), cmap='gray')#, int(paths[env.head_id][-1, 0])])\n",
    "    # ax[0].axis('off')\n",
    "    ax[0].imshow(I[-1].max(axis=0), cmap='hot', alpha=0.5)#, int(paths[env.head_id][-1, 0])])\n",
    "    ax[0].imshow(I[:3].max(axis=1).transpose(1,2,0), alpha=0.5)#, int(paths[env.head_id][-1, 0])])\n",
    "    ax[0].axis('off')\n",
    "    ax[1].imshow(O[:3].max(axis=1).transpose(1,2,0), alpha=0.5)\n",
    "    ax[1].imshow(O[-1].max(axis=0), alpha=0.5, cmap='hot')#, env.radius//2])\n",
    "    ax[1].axis('off')\n",
    "    # ax[2].imshow(O[0,-1].max(axis=0), alpha=0.5, cmap='hot')#, env.radius//2])\n",
    "    # ax[2].imshow(T[0].max(axis=0), alpha=0.5)#, env.radius//2])\n",
    "    # ax[2].imshow(M[0].max(axis=0), alpha=0.25, cmap='gray')\n",
    "    toshow = np.stack((O[-1].max(axis=0), T[0].max(axis=0), M[0].max(axis=0)), axis=-1)\n",
    "    ax[2].imshow(toshow)\n",
    "    ax[2].axis('off')\n",
    "\n",
    "    plt.show()\n",
    "\n",
    "def get_closest_dir(action_space, dir):\n",
    "    d = np.dot(action_space, dir[:,None])\n",
    "    idx = d.argmax()\n",
    "\n",
    "    return idx"
   ]
  },
  {
   "cell_type": "code",
   "execution_count": null,
   "metadata": {},
   "outputs": [],
   "source": [
    "f = open('/home/brysongray/tractography/neuron_trx/configs/config.json')\n",
    "args = json.load(f)\n",
    "\n",
    "img_file = args[\"image\"]\n",
    "label_file = args[\"label\"]\n",
    "seeds = args[\"seeds\"]\n",
    "model = args[\"model\"] if \"model\" in args else None\n",
    "n_seeds = args[\"n_seeds\"] if \"n_seeds\" in args else 1\n",
    "step_size = args[\"step_size\"] if \"step_size\" in args else 1.0\n",
    "step_width = args[\"step_width\"] if \"step_width\" in args else 1.0\n",
    "batch_size = args[\"batchsize\"] if \"batchsize\" in args else 128\n",
    "gamma = args[\"gamma\"] if \"gamma\" in args else 0.99\n",
    "eps_start = args[\"eps_start\"] if \"eps_start\" in args else 0.9\n",
    "eps_end = args[\"eps_end\"] if \"eps_end\" in args else 0.01\n",
    "eps_decay = args[\"eps_decay\"] if \"eps_decay\" in args else 1000\n",
    "tau = args[\"tau\"] if \"tau\" in args else 0.001\n",
    "lr = args[\"lr\"] if \"lr\" in args else 5e-4\n",
    "alpha = args[\"alpha\"] if \"alpha\" in args else 1.0\n",
    "beta = args[\"beta\"] if \"beta\" in args else 1e-3\n",
    "friction = args[\"friction\"] if \"friction\" in args else 1e-4\n",
    "num_episodes = args[\"num_episodes\"] if \"num_episodes\" in args else 100\n",
    "pixelsize = args[\"pixelsize\"] if \"pixelsize\" in args else [1.0, 1.0, 1.0]\n",
    "patch_radius = 17\n",
    "actions = np.load('/home/brysongray/tractography/neuron_trx/action_space_30_dir.npy')\n",
    "\n",
    "img, density, mask = load_data(img_file, label_file, downsample_factor=10, binary=False, inverse=True)\n",
    "\n",
    "\n",
    "env = Environment(img,\n",
    "                    patch_radius,\n",
    "                    seeds,\n",
    "                    mask,\n",
    "                    density,\n",
    "                    actions,\n",
    "                    n_seeds=n_seeds,\n",
    "                    step_size=step_size,\n",
    "                    step_width=step_width,\n",
    "                    pixelsize=pixelsize,\n",
    "                    max_len=10000,\n",
    "                    alpha=alpha,\n",
    "                    beta=beta,\n",
    "                    friction=friction)\n",
    "\n",
    "dqn_model = DQNModel(in_channels=4,\n",
    "                        n_actions=len(actions),\n",
    "                        input_size=(2*patch_radius+1),\n",
    "                        lr=lr,\n",
    "                        step_size=torch.tensor(step_size))\n",
    "\n",
    "if model:\n",
    "    dqn_model.load_model(torch.load(model))\n"
   ]
  },
  {
   "cell_type": "code",
   "execution_count": null,
   "metadata": {},
   "outputs": [],
   "source": [
    "dqn_model.train(env,\n",
    "                episodes=num_episodes,\n",
    "                batch_size=batch_size,\n",
    "                gamma=gamma,\n",
    "                tau=tau,\n",
    "                eps_start=eps_start,\n",
    "                eps_end=eps_end,\n",
    "                eps_decay=eps_decay,\n",
    "                save_snapshots=True,\n",
    "                show=False,\n",
    "                name='alpha-1_beta-1.0_f-0.5_n-1')"
   ]
  },
  {
   "cell_type": "markdown",
   "metadata": {},
   "source": [
    "## view image, mask, and density"
   ]
  },
  {
   "cell_type": "code",
   "execution_count": null,
   "metadata": {},
   "outputs": [],
   "source": [
    "env.img.data.shape\n"
   ]
  },
  {
   "cell_type": "code",
   "execution_count": null,
   "metadata": {},
   "outputs": [],
   "source": [
    "fig, ax = plt.subplots(1,3)\n",
    "ax[0].imshow(env.img.data[:3].amax(dim=1).permute(1,2,0))\n",
    "ax[1].imshow(env.true_density.data[0].amax(dim=0))\n",
    "ax[2].imshow(env.mask.data[0].amax(dim=0))"
   ]
  },
  {
   "cell_type": "code",
   "execution_count": null,
   "metadata": {},
   "outputs": [],
   "source": [
    "DEVICE = 'cuda:0'"
   ]
  },
  {
   "cell_type": "code",
   "execution_count": null,
   "metadata": {},
   "outputs": [],
   "source": [
    "env.reset()"
   ]
  },
  {
   "cell_type": "code",
   "execution_count": null,
   "metadata": {},
   "outputs": [],
   "source": [
    "show_state(env)"
   ]
  },
  {
   "cell_type": "code",
   "execution_count": null,
   "metadata": {},
   "outputs": [],
   "source": [
    "plt.close('all')\n",
    "action = torch.tensor([0., 0.0, -1.0])\n",
    "observation, reward, terminated = env.step(action, verbose=True)\n",
    "print(reward)\n",
    "if not terminated:\n",
    "    show_state(env)\n",
    "else:\n",
    "    env.reset()"
   ]
  },
  {
   "cell_type": "code",
   "execution_count": null,
   "metadata": {},
   "outputs": [],
   "source": [
    "# get the index of action_space closest to a desired step direction\n",
    "action_id = get_closest_dir(env.action_space, torch.Tensor([0., 0., -1.]))\n",
    "print(action_id)\n",
    "print(env.action_space[action_id])"
   ]
  },
  {
   "cell_type": "code",
   "execution_count": null,
   "metadata": {},
   "outputs": [],
   "source": [
    "output='./outputs'\n",
    "episodes = 128\n"
   ]
  },
  {
   "cell_type": "code",
   "execution_count": null,
   "metadata": {},
   "outputs": [],
   "source": [
    "# Train the Network\n",
    "steps_done = 0\n",
    "episode_durations = []\n",
    "episode_returns = []\n",
    "if not os.path.exists(output):\n",
    "    os.makedirs(output)\n",
    "# for i in tqdm(range(episodes)):\n",
    "while len(dqn_model.memory) < batch_size:\n",
    "    env.reset()\n",
    "    state = env.get_state()[0].clone().to(dtype=torch.float32, device=DEVICE)\n",
    "    ep_return = 0\n",
    "    for t in count():\n",
    "        action_id = dqn_model.select_action(env.action_space, state, steps_done, eps_start, eps_end, eps_decay)\n",
    "        # observation, reward, terminated = env.step(env.action_space[action_id])\n",
    "        action = env.action_space[action_id]\n",
    "\n",
    "        # step\n",
    "        terminated = False\n",
    "\n",
    "        # add new position to path\n",
    "        while True:\n",
    "            new_position = env.paths[env.head_id][-1] + env.step_size*action\n",
    "            out_of_bound = any([x >= y or x < 0 for x,y in zip(torch.round(new_position), env.img.data.shape[1:])])\n",
    "            if out_of_bound:\n",
    "                action = env.action_space[int(np.random.randint(len(env.action_space)))]\n",
    "            else:\n",
    "                break\n",
    "\n",
    "        env.paths[env.head_id] = torch.cat((env.paths[env.head_id], new_position[None]))\n",
    "        # decide if path terminates\n",
    "        # out_of_mask = env.mask[tuple([int(x) for x in env.paths[env.head_id][-1]])]\n",
    "        too_long = len(env.paths[env.head_id]) > env.max_len\n",
    "        self_terminate = not any(action)\n",
    "        terminate_path = too_long or self_terminate\n",
    "\n",
    "        if terminate_path:\n",
    "            observation = None\n",
    "            reward = torch.tensor([0.], device=DEVICE)\n",
    "            # remove the path from 'paths' and add it to 'ended_paths'\n",
    "            env.ended_paths.append(env.paths.pop(env.head_id))\n",
    "            # if that was the last path in the list, then terminate the episode\n",
    "            if len(env.paths) == 0:\n",
    "                terminated = True\n",
    "            else:\n",
    "                env.head_id = (env.head_id + 1)%len(env.paths)\n",
    "        else:\n",
    "            center = env.paths[env.head_id][-2]\n",
    "            r = env.radius + int(np.ceil(env.step_size.max()))\n",
    "            true_density_patch, _ = env.true_density.crop(center, radius=r) # patch centered at previous step position\n",
    "            old_density_patch, _ = env.img.crop(center, radius=r)\n",
    "            old_density_patch = old_density_patch.detach().clone()[-1][None] # need to make a copy or else this will be modified by adding a point to img\n",
    "            # add_bundle_point(env.img, env.paths[env.head_id][-1], env.ball)\n",
    "            segment = env.paths[env.head_id][-2:, :3]\n",
    "            env.img.draw_line_segment(segment, width=1.0)\n",
    "            new_density_patch, _ = env.img.crop(center, radius=r)\n",
    "            new_density_patch = new_density_patch[-1][None]\n",
    "            delta_density_diff = density_error_change(true_density_patch, old_density_patch, new_density_patch)\n",
    "            observation = env.get_state()\n",
    "            reward = env.get_reward(terminated, delta_density_diff)\n",
    "\n",
    "            env.head_id = (env.head_id + 1)%len(env.paths)\n",
    "        # end step\n",
    "            \n",
    "        ep_return += reward\n",
    "\n",
    "        if terminated: # episode terminated\n",
    "            next_state = None\n",
    "        else:\n",
    "            next_state = observation # if the streamline terminated observation is None\n",
    "            if next_state is not None:\n",
    "                next_state = next_state[0].clone().to(dtype=torch.float32, device=DEVICE)\n",
    "\n",
    "        # Store the transition in memory\n",
    "        dqn_model.memory.push(state, action_id, next_state, reward)\n",
    "\n",
    "        # Perform one step of the optimization (on the policy network)\n",
    "        dqn_model.optimize_model(batch_size, gamma)\n",
    "\n",
    "        # Soft update of the target network's weights\n",
    "        # θ′ ← τ θ + (1 −τ )θ′\n",
    "        target_net_state_dict = dqn_model.target_net.state_dict()\n",
    "        policy_net_state_dict = dqn_model.policy_net.state_dict()\n",
    "        for key in policy_net_state_dict:\n",
    "            target_net_state_dict[key] = policy_net_state_dict[key]*tau + target_net_state_dict[key]*(1-tau)\n",
    "        dqn_model.target_net.load_state_dict(target_net_state_dict)\n",
    "\n",
    "        if terminated:\n",
    "            episode_durations.append(t + 1)\n",
    "            episode_returns.append(ep_return)\n",
    "            # if show:\n",
    "            #     plot_durations(episode_durations)\n",
    "            #     plot_returns(episode_returns)\n",
    "            # if save_snapshots:\n",
    "            #     if i%10 == 0:\n",
    "            #         torch.save(env.img.data[-1].detach().clone(), os.path.join(output, f'bundle_density_ep{i}.pt'))\n",
    "            #         torch.save(target_net_state_dict, os.path.join(output, f'model_state_dict_{name}.pt'))\n",
    "            #         torch.save(episode_durations, os.path.join(output, 'episode_durations_{name}.pt'))\n",
    "            #         torch.save(episode_returns, os.path.join(output, 'episode_returns_{name}.pt'))\n",
    "            break\n",
    "        # if not terminated, move to the next state\n",
    "        state = env.get_state()[0].to(dtype=torch.float32, device=DEVICE) # the head of the next streamline"
   ]
  },
  {
   "cell_type": "code",
   "execution_count": null,
   "metadata": {},
   "outputs": [],
   "source": [
    "show_state(env)"
   ]
  },
  {
   "cell_type": "code",
   "execution_count": null,
   "metadata": {},
   "outputs": [],
   "source": [
    "dqn_model.policy_net.state_dict()['conv1.bias'].ne(dqn_model.target_net.state_dict()['conv1.bias']).sum()"
   ]
  },
  {
   "cell_type": "code",
   "execution_count": null,
   "metadata": {},
   "outputs": [],
   "source": [
    "# Perform one step of the optimization (on the policy network)\n",
    "dqn_model_params = dqn_model.policy_net.parameters().detach().clone()\n",
    "print(dqn_model.policy_net.state_dict()['conv1.bias'])\n",
    "dqn_model.optimize_model(batch_size, gamma)\n",
    "print(dqn_model.policy_net.state_dict()['conv1.bias'])\n",
    "dqn_model_params_after = dqn_model.policy_net.parameters()\n",
    "\n",
    "for p1, p2 in zip(dqn_model_params, dqn_model_params_after):\n",
    "    if p1.data.ne(p2.data).sum() > 0:\n",
    "        print(\"Not equal\")\n",
    "    else:\n",
    "        print('Equal')"
   ]
  },
  {
   "cell_type": "code",
   "execution_count": null,
   "metadata": {},
   "outputs": [],
   "source": [
    "dqn_model.policy_net.state_dict()['conv1.bias']"
   ]
  },
  {
   "cell_type": "code",
   "execution_count": null,
   "metadata": {},
   "outputs": [],
   "source": [
    "dqn_model_params_after['conv1.bias']"
   ]
  },
  {
   "cell_type": "code",
   "execution_count": null,
   "metadata": {},
   "outputs": [],
   "source": [
    "# Soft update of the target network's weights\n",
    "# θ′ ← τ θ + (1 −τ )θ′\n",
    "target_net_state_dict = dqn_model.target_net.state_dict()\n",
    "policy_net_state_dict = dqn_model.policy_net.state_dict()\n",
    "for key in policy_net_state_dict:\n",
    "    target_net_state_dict[key] = policy_net_state_dict[key]*tau + target_net_state_dict[key]*(1-tau)\n",
    "dqn_model.target_net.load_state_dict(target_net_state_dict)"
   ]
  },
  {
   "cell_type": "code",
   "execution_count": null,
   "metadata": {},
   "outputs": [],
   "source": [
    "if terminated:\n",
    "    episode_durations.append(t + 1)\n",
    "    episode_returns.append(ep_return)\n",
    "    print('Terminated')"
   ]
  },
  {
   "cell_type": "code",
   "execution_count": null,
   "metadata": {},
   "outputs": [],
   "source": []
  },
  {
   "cell_type": "code",
   "execution_count": null,
   "metadata": {},
   "outputs": [],
   "source": [
    "config_path = \"/home/brysongray/tractography/neuron_trx/configs/config.json\"\n",
    "f = open(config_path)\n",
    "config = json.load(f)\n",
    "print(type(config))"
   ]
  },
  {
   "cell_type": "code",
   "execution_count": null,
   "metadata": {},
   "outputs": [],
   "source": [
    "train_dqn_tracker.main(config)"
   ]
  },
  {
   "cell_type": "markdown",
   "metadata": {},
   "source": [
    "# View results"
   ]
  },
  {
   "cell_type": "code",
   "execution_count": null,
   "metadata": {},
   "outputs": [],
   "source": [
    "name = \"alpha-1_beta-2.0_f-0.5_n-10\"\n",
    "output = \"/home/brysongray/tractography/outputs/\"\n",
    "returns = torch.load(os.path.join(output, f\"episode_returns_{name}.pt\"))\n",
    "durations = torch.load(os.path.join(output, f\"episode_durations_{name}.pt\"))\n",
    "loss = torch.load(os.path.join(output, f\"loss_{name}.pt\"))\n",
    "eps = torch.load(os.path.join(output, f\"eps_{name}.pt\"))\n",
    "lr = torch.load(os.path.join(output, f\"lr_{name}.pt\"))"
   ]
  },
  {
   "cell_type": "code",
   "execution_count": null,
   "metadata": {},
   "outputs": [],
   "source": [
    "dqn_tracker.plot_returns(returns, show_result=False)\n",
    "dqn_tracker.plot_durations(durations, show_result=False)"
   ]
  },
  {
   "cell_type": "code",
   "execution_count": null,
   "metadata": {},
   "outputs": [],
   "source": [
    "fig, ax = plt.subplots(1,3)\n",
    "ax[0].plot(eps)\n",
    "ax[0].set_title(\"epsilon\")\n",
    "ax[1].plot(lr, label=\"lr\")\n",
    "ax[1].set_title(\"learning rate\")\n",
    "ax[2].plot(loss, label=\"loss\")\n",
    "ax[2].set_title(\"loss\")"
   ]
  },
  {
   "cell_type": "code",
   "execution_count": null,
   "metadata": {},
   "outputs": [],
   "source": [
    "fname = '/home/brysongray/tractography/outputs/bundle_density_ep1.pt'\n",
    "density = torch.load(fname)\n",
    "print(density.shape)"
   ]
  },
  {
   "cell_type": "code",
   "execution_count": null,
   "metadata": {},
   "outputs": [],
   "source": [
    "plt.close('all')\n",
    "fig, ax = plt.subplots(2,3)\n",
    "for r in range(2):\n",
    "    for c in range(3):\n",
    "        i = (r+1)*(c+1)\n",
    "        if i == 6:\n",
    "            break\n",
    "        fname = f'/home/brysongray/tractography/outputs/bundle_density_ep{i-1}.pt'\n",
    "        density = torch.load(fname)\n",
    "        D = density.amax(dim=0)\n",
    "        I = env.img.data[:3].amin(dim=(1))\n",
    "        ax[r][c].imshow(D, cmap='hot', alpha=0.4)\n",
    "        ax[r][c].imshow(I.permute(1,2,0), alpha=0.6)\n",
    "\n",
    "# T = env.true_density.data.amax(dim=(0,1))\n",
    "# plt.imshow(T, cmap='gray', alpha=0.5)\n"
   ]
  },
  {
   "cell_type": "markdown",
   "metadata": {},
   "source": [
    "# Inference"
   ]
  },
  {
   "cell_type": "code",
   "execution_count": 14,
   "metadata": {},
   "outputs": [
    {
     "name": "stderr",
     "output_type": "stream",
     "text": [
      "\n",
      "\u001b[1;33m/home/brysongray/tractography/data/Cerebellar Climbing Fibers/Gold Standard Reconstructions/CF_1.swc:1506:warning\u001b[0m\n",
      "Warning: zero diameter in file\n",
      "\n",
      "\u001b[1;33m/home/brysongray/tractography/data/Cerebellar Climbing Fibers/Gold Standard Reconstructions/CF_1.swc:1493:warning\u001b[0m\n",
      "Warning: zero diameter in file\n",
      "\n",
      "\u001b[1;33m/home/brysongray/tractography/data/Cerebellar Climbing Fibers/Gold Standard Reconstructions/CF_1.swc:1322:warning\u001b[0m\n",
      "Warning: zero diameter in file\n",
      "\n",
      "\u001b[1;33m/home/brysongray/tractography/data/Cerebellar Climbing Fibers/Gold Standard Reconstructions/CF_1.swc:1216:warning\u001b[0m\n",
      "Warning: zero diameter in file\n",
      "\n",
      "\u001b[1;33m/home/brysongray/tractography/data/Cerebellar Climbing Fibers/Gold Standard Reconstructions/CF_1.swc:1118:warning\u001b[0m\n",
      "Warning: zero diameter in file\n",
      "\n",
      "\u001b[1;33m/home/brysongray/tractography/data/Cerebellar Climbing Fibers/Gold Standard Reconstructions/CF_1.swc:0:warning\u001b[0m\n",
      "Warning: no soma found in file\n"
     ]
    }
   ],
   "source": [
    "f = open('/home/brysongray/tractography/neuron_trx/configs/config.json')\n",
    "args = json.load(f)\n",
    "\n",
    "img_file = args[\"image\"]\n",
    "label_file = args[\"label\"]\n",
    "seeds = args[\"seeds\"]\n",
    "model = args[\"model\"] if \"model\" in args else None\n",
    "n_seeds = args[\"n_seeds\"] if \"n_seeds\" in args else 1\n",
    "step_size = args[\"step_size\"] if \"step_size\" in args else 1.0\n",
    "step_width = args[\"step_width\"] if \"step_width\" in args else 1.0\n",
    "batch_size = args[\"batchsize\"] if \"batchsize\" in args else 128\n",
    "gamma = args[\"gamma\"] if \"gamma\" in args else 0.99\n",
    "eps_start = args[\"eps_start\"] if \"eps_start\" in args else 0.9\n",
    "eps_end = args[\"eps_end\"] if \"eps_end\" in args else 0.01\n",
    "eps_decay = args[\"eps_decay\"] if \"eps_decay\" in args else 1000\n",
    "tau = args[\"tau\"] if \"tau\" in args else 0.001\n",
    "lr = args[\"lr\"] if \"lr\" in args else 5e-4\n",
    "alpha = args[\"alpha\"] if \"alpha\" in args else 1.0\n",
    "beta = args[\"beta\"] if \"beta\" in args else 1e-3\n",
    "friction = args[\"friction\"] if \"friction\" in args else 1e-4\n",
    "num_episodes = args[\"num_episodes\"] if \"num_episodes\" in args else 100\n",
    "pixelsize = args[\"pixelsize\"] if \"pixelsize\" in args else [1.0, 1.0, 1.0]\n",
    "patch_radius = 17\n",
    "actions = np.load('/home/brysongray/tractography/neuron_trx/action_space_30_dir.npy')\n",
    "\n",
    "img, density, mask = load_data(img_file, label_file, downsample_factor=10, binary=False, inverse=False)\n",
    "\n",
    "env = Environment(img,\n",
    "                    patch_radius,\n",
    "                    seeds,\n",
    "                    mask,\n",
    "                    density,\n",
    "                    actions,\n",
    "                    n_seeds=1,\n",
    "                    step_size=step_size,\n",
    "                    step_width=step_width,\n",
    "                    pixelsize=pixelsize,\n",
    "                    max_len=10000,\n",
    "                    alpha=alpha,\n",
    "                    beta=beta,\n",
    "                    friction=friction)\n",
    "\n",
    "dqn_model = DQNModel(4, n_actions=len(actions), input_size=(2*patch_radius+1))\n",
    "if model:\n",
    "    dqn_model.load_model(torch.load(model))\n"
   ]
  },
  {
   "cell_type": "code",
   "execution_count": null,
   "metadata": {},
   "outputs": [],
   "source": [
    "show_state(env)"
   ]
  },
  {
   "cell_type": "code",
   "execution_count": 15,
   "metadata": {},
   "outputs": [],
   "source": [
    "seeds = [[19,325,201]]\n",
    "env.seeds = seeds\n",
    "env = dqn_model.inference(env)"
   ]
  },
  {
   "cell_type": "code",
   "execution_count": 16,
   "metadata": {},
   "outputs": [],
   "source": [
    "env.img.data[:3] = 1.0 - env.img.data[:3]"
   ]
  },
  {
   "cell_type": "code",
   "execution_count": 17,
   "metadata": {},
   "outputs": [
    {
     "data": {
      "application/vnd.jupyter.widget-view+json": {
       "model_id": "fb018965b22446a1a4362357416b43db",
       "version_major": 2,
       "version_minor": 0
      },
      "image/png": "[encoded data removed]",
      "text/html": [
       "\n",
       "            <div style=\"display: inline-block;\">\n",
       "                <div class=\"jupyter-widgets widget-label\" style=\"text-align: center;\">\n",
       "                    Figure\n",
       "                </div>\n",
       "                <img src='data:image/png;base64,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' width=640.0/>\n",
       "            </div>\n",
       "        "
      ],
      "text/plain": [
       "Canvas(toolbar=Toolbar(toolitems=[('Home', 'Reset original view', 'home', 'home'), ('Back', 'Back to previous …"
      ]
     },
     "metadata": {},
     "output_type": "display_data"
    }
   ],
   "source": [
    "show_state(env, finished=True)"
   ]
  },
  {
   "cell_type": "code",
   "execution_count": null,
   "metadata": {},
   "outputs": [],
   "source": [
    "env.step_size"
   ]
  },
  {
   "cell_type": "code",
   "execution_count": null,
   "metadata": {},
   "outputs": [],
   "source": [
    "p = env.get_state()[1]\n",
    "v = (p[1] - p[0]) /env.step_size\n",
    "w = (p[2] - p[1]) / env.step_size\n",
    "a = torch.dot(v,w)\n",
    "print(v)\n",
    "print(w)\n",
    "print(a)"
   ]
  },
  {
   "cell_type": "code",
   "execution_count": null,
   "metadata": {},
   "outputs": [],
   "source": [
    "plt.figure()\n",
    "D = env.img.data[-1].amax(dim=(0))\n",
    "T = env.true_density.data.amax(dim=(0,1))\n",
    "I = env.img.data[:3].amin(dim=(1))\n",
    "plt.imshow(D, cmap='hot', alpha=0.5)\n",
    "# plt.imshow(I.permute(1,2,0), alpha=0.5)\n",
    "plt.imshow(T, cmap='gray', alpha=0.5)"
   ]
  }
 ],
 "metadata": {
  "kernelspec": {
   "display_name": "tractography",
   "language": "python",
   "name": "python3"
  },
  "language_info": {
   "codemirror_mode": {
    "name": "ipython",
    "version": 3
   },
   "file_extension": ".py",
   "mimetype": "text/x-python",
   "name": "python",
   "nbconvert_exporter": "python",
   "pygments_lexer": "ipython3",
   "version": "3.11.5"
  },
  "orig_nbformat": 4
 },
 "nbformat": 4,
 "nbformat_minor": 2
}
