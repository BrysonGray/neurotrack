{
 "cells": [
  {
   "cell_type": "code",
   "execution_count": 1,
   "metadata": {},
   "outputs": [],
   "source": [
    "%load_ext autoreload\n",
    "%autoreload 2\n",
    "%matplotlib widget"
   ]
  },
  {
   "cell_type": "code",
   "execution_count": 2,
   "metadata": {},
   "outputs": [],
   "source": [
    "import numpy as np\n",
    "import torch\n",
    "import matplotlib\n",
    "from matplotlib import pyplot as plt\n",
    "import random\n",
    "import json\n",
    "import sys\n",
    "sys.path.insert(0,'/home/brysongray/tractography/')\n",
    "import dqn_tracker\n",
    "import tracking_env\n",
    "import train_dqn_tracker\n",
    "from load_data import load_data\n",
    "from tracking_env import Environment, density_error_change\n",
    "from dqn_tracker import DQNModel\n",
    "import os\n",
    "from itertools import count\n",
    "from tqdm import tqdm\n",
    "from image import Image\n",
    "from skimage.filters import gaussian\n",
    "from IPython.display import display, clear_output"
   ]
  },
  {
   "cell_type": "code",
   "execution_count": 3,
   "metadata": {},
   "outputs": [],
   "source": [
    "def show_state(env, z=None, finished=False, path_id=0, t=-1):\n",
    "    \n",
    "    if finished:\n",
    "        paths = env.finished_paths\n",
    "    else:\n",
    "        paths = env.paths\n",
    "        path_id = env.head_id\n",
    "\n",
    "    state, _ = env.img.crop(paths[path_id][t], env.radius, pad=True, value=0.0)\n",
    "    state = state.detach().clone()\n",
    "    true_density_patch, _ = env.true_density.crop(paths[path_id][t], env.radius, pad=True)\n",
    "    bundle_density_patch, _ = env.bundle_density.crop(paths[path_id][t], env.radius, pad=True)\n",
    "    mask = Image(env.mask)\n",
    "    mask_patch, _ = mask.crop(paths[path_id][t], env.radius, interp=False, pad=True)\n",
    "    I = np.array(env.img.data.to('cpu'))\n",
    "    D = np.array(env.true_density.data.to('cpu'))\n",
    "    O = np.array(state.to('cpu'))\n",
    "    T = np.array(true_density_patch.to('cpu'))\n",
    "    B = np.array(bundle_density_patch.to('cpu'))\n",
    "    M = np.array(mask_patch.to('cpu'))\n",
    "    if z is not None:\n",
    "        z_ = state.shape[2]//2\n",
    "        I = I[:, z]\n",
    "        D = D[0,z]\n",
    "        O = O[:, z_]\n",
    "        T = T[0,z_]\n",
    "        B = B[0,z_]\n",
    "        M = M[0,z_]\n",
    "    else: # project along z\n",
    "        I = I.max(axis=1)\n",
    "        D = D[0].max(axis=0)\n",
    "        O = O.max(axis=1)\n",
    "        T = T[0].max(axis=0)\n",
    "        B = B[0].max(axis=0)\n",
    "        M = M[0].max(axis=0)\n",
    "    plt.cla()\n",
    "    fig, ax = plt.subplots(1,3)\n",
    "    ax[0].imshow(I[-1], cmap='hot', alpha=0.5) #, int(paths[env.head_id][-1, 0])])\n",
    "    ax[0].imshow(I[:3].transpose(1,2,0), alpha=0.5) #, int(paths[env.head_id][-1, 0])])\n",
    "    ax[0].axis('off')\n",
    "    ax[1].imshow(O[:3].transpose(1,2,0), alpha=0.75)\n",
    "    ax[1].imshow(O[-1], alpha=0.25, cmap='hot') #, env.radius//2])\n",
    "    ax[1].axis('off')\n",
    "    toshow = np.stack((B, T, M), axis=-1)\n",
    "    ax[2].imshow(toshow)\n",
    "    ax[2].axis('off')\n",
    "\n",
    "    display(fig)\n",
    "\n",
    "def get_closest_dir(action_space, dir):\n",
    "    d = np.dot(action_space, dir[:,None])\n",
    "    idx = d.argmax()\n",
    "\n",
    "    return idx"
   ]
  },
  {
   "cell_type": "code",
   "execution_count": 11,
   "metadata": {},
   "outputs": [
    {
     "name": "stderr",
     "output_type": "stream",
     "text": [
      "\n",
      "\u001b[1;33m/home/brysongray/tractography/data/Cerebellar Climbing Fibers/Gold Standard Reconstructions/CF_1.swc:1506:warning\u001b[0m\n",
      "Warning: zero diameter in file\n",
      "\n",
      "\u001b[1;33m/home/brysongray/tractography/data/Cerebellar Climbing Fibers/Gold Standard Reconstructions/CF_1.swc:1493:warning\u001b[0m\n",
      "Warning: zero diameter in file\n",
      "\n",
      "\u001b[1;33m/home/brysongray/tractography/data/Cerebellar Climbing Fibers/Gold Standard Reconstructions/CF_1.swc:1322:warning\u001b[0m\n",
      "Warning: zero diameter in file\n",
      "\n",
      "\u001b[1;33m/home/brysongray/tractography/data/Cerebellar Climbing Fibers/Gold Standard Reconstructions/CF_1.swc:1216:warning\u001b[0m\n",
      "Warning: zero diameter in file\n",
      "\n",
      "\u001b[1;33m/home/brysongray/tractography/data/Cerebellar Climbing Fibers/Gold Standard Reconstructions/CF_1.swc:1118:warning\u001b[0m\n",
      "Warning: zero diameter in file\n",
      "\n",
      "\u001b[1;33m/home/brysongray/tractography/data/Cerebellar Climbing Fibers/Gold Standard Reconstructions/CF_1.swc:0:warning\u001b[0m\n",
      "Warning: no soma found in file\n"
     ]
    }
   ],
   "source": [
    "f = open('/home/brysongray/tractography/neuron_trx/configs/config.json')\n",
    "args = json.load(f)\n",
    "\n",
    "img_file = args[\"image\"]\n",
    "label_file = args[\"label\"]\n",
    "seeds = args[\"seeds\"]\n",
    "model = args[\"model\"] if \"model\" in args else None\n",
    "n_seeds = args[\"n_seeds\"] if \"n_seeds\" in args else 1\n",
    "step_size = args[\"step_size\"] if \"step_size\" in args else 1.0\n",
    "step_width = args[\"step_width\"] if \"step_width\" in args else 1.0\n",
    "batch_size = args[\"batchsize\"] if \"batchsize\" in args else 128\n",
    "gamma = args[\"gamma\"] if \"gamma\" in args else 0.99\n",
    "eps_start = args[\"eps_start\"] if \"eps_start\" in args else 0.9\n",
    "eps_end = args[\"eps_end\"] if \"eps_end\" in args else 0.01\n",
    "eps_decay = args[\"eps_decay\"] if \"eps_decay\" in args else 1000\n",
    "tau = args[\"tau\"] if \"tau\" in args else 0.001\n",
    "lr = args[\"lr\"] if \"lr\" in args else 5e-4\n",
    "alpha = args[\"alpha\"] if \"alpha\" in args else 1.0\n",
    "beta = args[\"beta\"] if \"beta\" in args else 1e-3\n",
    "friction = args[\"friction\"] if \"friction\" in args else 1e-4\n",
    "num_episodes = args[\"num_episodes\"] if \"num_episodes\" in args else 100\n",
    "pixelsize = args[\"pixelsize\"] if \"pixelsize\" in args else [1.0, 1.0, 1.0]\n",
    "patch_radius = 17\n",
    "actions = np.load('/home/brysongray/tractography/neuron_trx/action_space_30_dir.npy')\n",
    "\n",
    "img, density, mask = load_data(img_file, label_file, pixelsize=pixelsize, inverse=True)\n",
    "\n",
    "env = Environment(img,\n",
    "                    patch_radius,\n",
    "                    seeds,\n",
    "                    mask,\n",
    "                    density,\n",
    "                    actions,\n",
    "                    n_seeds=n_seeds,\n",
    "                    step_size=step_size,\n",
    "                    step_width=step_width,\n",
    "                    max_len=10000,\n",
    "                    alpha=alpha,\n",
    "                    beta=beta,\n",
    "                    friction=friction)\n",
    "\n",
    "dqn_model = DQNModel(in_channels=4,\n",
    "                        n_actions=len(actions),\n",
    "                        input_size=(2*patch_radius+1),\n",
    "                        lr=lr,\n",
    "                        step_size=torch.tensor(step_size))\n",
    "\n",
    "# if model:\n",
    "#     dqn_model.load_model(torch.load(model))"
   ]
  },
  {
   "cell_type": "code",
   "execution_count": 10,
   "metadata": {},
   "outputs": [
    {
     "name": "stderr",
     "output_type": "stream",
     "text": [
      " 12%|█▏        | 175/1500 [00:28<03:36,  6.12it/s]\n"
     ]
    },
    {
     "ename": "KeyboardInterrupt",
     "evalue": "",
     "output_type": "error",
     "traceback": [
      "\u001b[0;31m---------------------------------------------------------------------------\u001b[0m",
      "\u001b[0;31mKeyboardInterrupt\u001b[0m                         Traceback (most recent call last)",
      "\u001b[1;32m/home/brysongray/tractography/neuron_trx/notebooks/neuron_trx_tests.ipynb Cell 5\u001b[0m line \u001b[0;36m1\n\u001b[0;32m----> <a href='vscode-notebook-cell:/home/brysongray/tractography/neuron_trx/notebooks/neuron_trx_tests.ipynb#W4sZmlsZQ%3D%3D?line=0'>1</a>\u001b[0m dqn_model\u001b[39m.\u001b[39;49mtrain(env,\n\u001b[1;32m      <a href='vscode-notebook-cell:/home/brysongray/tractography/neuron_trx/notebooks/neuron_trx_tests.ipynb#W4sZmlsZQ%3D%3D?line=1'>2</a>\u001b[0m                 episodes\u001b[39m=\u001b[39;49mnum_episodes,\n\u001b[1;32m      <a href='vscode-notebook-cell:/home/brysongray/tractography/neuron_trx/notebooks/neuron_trx_tests.ipynb#W4sZmlsZQ%3D%3D?line=2'>3</a>\u001b[0m                 batch_size\u001b[39m=\u001b[39;49mbatch_size,\n\u001b[1;32m      <a href='vscode-notebook-cell:/home/brysongray/tractography/neuron_trx/notebooks/neuron_trx_tests.ipynb#W4sZmlsZQ%3D%3D?line=3'>4</a>\u001b[0m                 gamma\u001b[39m=\u001b[39;49mgamma,\n\u001b[1;32m      <a href='vscode-notebook-cell:/home/brysongray/tractography/neuron_trx/notebooks/neuron_trx_tests.ipynb#W4sZmlsZQ%3D%3D?line=4'>5</a>\u001b[0m                 tau\u001b[39m=\u001b[39;49mtau,\n\u001b[1;32m      <a href='vscode-notebook-cell:/home/brysongray/tractography/neuron_trx/notebooks/neuron_trx_tests.ipynb#W4sZmlsZQ%3D%3D?line=5'>6</a>\u001b[0m                 eps_start\u001b[39m=\u001b[39;49meps_start,\n\u001b[1;32m      <a href='vscode-notebook-cell:/home/brysongray/tractography/neuron_trx/notebooks/neuron_trx_tests.ipynb#W4sZmlsZQ%3D%3D?line=6'>7</a>\u001b[0m                 eps_end\u001b[39m=\u001b[39;49meps_end,\n\u001b[1;32m      <a href='vscode-notebook-cell:/home/brysongray/tractography/neuron_trx/notebooks/neuron_trx_tests.ipynb#W4sZmlsZQ%3D%3D?line=7'>8</a>\u001b[0m                 eps_decay\u001b[39m=\u001b[39;49meps_decay,\n\u001b[1;32m      <a href='vscode-notebook-cell:/home/brysongray/tractography/neuron_trx/notebooks/neuron_trx_tests.ipynb#W4sZmlsZQ%3D%3D?line=8'>9</a>\u001b[0m                 save_snapshots\u001b[39m=\u001b[39;49m\u001b[39mFalse\u001b[39;49;00m,\n\u001b[1;32m     <a href='vscode-notebook-cell:/home/brysongray/tractography/neuron_trx/notebooks/neuron_trx_tests.ipynb#W4sZmlsZQ%3D%3D?line=9'>10</a>\u001b[0m                 show\u001b[39m=\u001b[39;49m\u001b[39mFalse\u001b[39;49;00m,\n\u001b[1;32m     <a href='vscode-notebook-cell:/home/brysongray/tractography/neuron_trx/notebooks/neuron_trx_tests.ipynb#W4sZmlsZQ%3D%3D?line=10'>11</a>\u001b[0m                 output\u001b[39m=\u001b[39;49m\u001b[39m\"\u001b[39;49m\u001b[39m/home/brysongray/tractography/outputs\u001b[39;49m\u001b[39m\"\u001b[39;49m,\n\u001b[1;32m     <a href='vscode-notebook-cell:/home/brysongray/tractography/neuron_trx/notebooks/neuron_trx_tests.ipynb#W4sZmlsZQ%3D%3D?line=11'>12</a>\u001b[0m                 name\u001b[39m=\u001b[39;49m\u001b[39m'\u001b[39;49m\u001b[39m'\u001b[39;49m)\n",
      "File \u001b[0;32m~/tractography/dqn_tracker.py:283\u001b[0m, in \u001b[0;36mDQNModel.train\u001b[0;34m(self, env, episodes, batch_size, gamma, tau, eps_start, eps_end, eps_decay, save_snapshots, output, name, show)\u001b[0m\n\u001b[1;32m    281\u001b[0m steps_done \u001b[39m+\u001b[39m\u001b[39m=\u001b[39m \u001b[39m1\u001b[39m\n\u001b[1;32m    282\u001b[0m \u001b[39m# take step, get observation and reward, and move index to next streamline\u001b[39;00m\n\u001b[0;32m--> 283\u001b[0m observation, reward, terminated \u001b[39m=\u001b[39m env\u001b[39m.\u001b[39;49mstep(env\u001b[39m.\u001b[39;49maction_space[action_id]) \n\u001b[1;32m    284\u001b[0m ep_return \u001b[39m+\u001b[39m\u001b[39m=\u001b[39m reward\n\u001b[1;32m    286\u001b[0m \u001b[39mif\u001b[39;00m terminated: \u001b[39m# episode terminated\u001b[39;00m\n",
      "File \u001b[0;32m~/tractography/tracking_env.py:282\u001b[0m, in \u001b[0;36mEnvironment.step\u001b[0;34m(self, action, verbose)\u001b[0m\n\u001b[1;32m    280\u001b[0m     delta_density_diff \u001b[39m=\u001b[39m density_error_change(true_density_patch, old_density_patch, new_density_patch)\n\u001b[1;32m    281\u001b[0m     reward \u001b[39m=\u001b[39m \u001b[39mself\u001b[39m\u001b[39m.\u001b[39mget_reward(terminated, delta_density_diff, verbose\u001b[39m=\u001b[39mverbose)\n\u001b[0;32m--> 282\u001b[0m     observation \u001b[39m=\u001b[39m \u001b[39mself\u001b[39;49m\u001b[39m.\u001b[39;49mget_state()\n\u001b[1;32m    284\u001b[0m     \u001b[39mself\u001b[39m\u001b[39m.\u001b[39mhead_id \u001b[39m=\u001b[39m (\u001b[39mself\u001b[39m\u001b[39m.\u001b[39mhead_id \u001b[39m+\u001b[39m \u001b[39m1\u001b[39m)\u001b[39m%\u001b[39m\u001b[39mlen\u001b[39m(\u001b[39mself\u001b[39m\u001b[39m.\u001b[39mpaths)\n\u001b[1;32m    286\u001b[0m \u001b[39mreturn\u001b[39;00m observation, reward, terminated\n",
      "File \u001b[0;32m~/tractography/tracking_env.py:164\u001b[0m, in \u001b[0;36mEnvironment.get_state\u001b[0;34m(self)\u001b[0m\n\u001b[1;32m    153\u001b[0m \u001b[39mdef\u001b[39;00m \u001b[39mget_state\u001b[39m(\u001b[39mself\u001b[39m):\n\u001b[1;32m    154\u001b[0m \u001b[39m    \u001b[39m\u001b[39m\"\"\" Get the state for the current step at streamline 'head_id'. The state consists of an image patch and\u001b[39;00m\n\u001b[1;32m    155\u001b[0m \u001b[39m    streamline density patch centered on the streamline head plus the last three streamline positions.\u001b[39;00m\n\u001b[1;32m    156\u001b[0m \n\u001b[0;32m   (...)\u001b[0m\n\u001b[1;32m    162\u001b[0m \u001b[39m     Tensor with shape 3 x 3 (3 step positions by 3 euclidean coordinates)\u001b[39;00m\n\u001b[1;32m    163\u001b[0m \u001b[39m    \"\"\"\u001b[39;00m\n\u001b[0;32m--> 164\u001b[0m     patch, _ \u001b[39m=\u001b[39m \u001b[39mself\u001b[39;49m\u001b[39m.\u001b[39;49mimg\u001b[39m.\u001b[39;49mcrop(\u001b[39mself\u001b[39;49m\u001b[39m.\u001b[39;49mpaths[\u001b[39mself\u001b[39;49m\u001b[39m.\u001b[39;49mhead_id][\u001b[39m-\u001b[39;49m\u001b[39m1\u001b[39;49m], \u001b[39mself\u001b[39;49m\u001b[39m.\u001b[39;49mradius, pad\u001b[39m=\u001b[39;49m\u001b[39mTrue\u001b[39;49;00m, value\u001b[39m=\u001b[39;49m\u001b[39m0.0\u001b[39;49m)\n\u001b[1;32m    165\u001b[0m     patch \u001b[39m=\u001b[39m patch\u001b[39m.\u001b[39mdetach()\u001b[39m.\u001b[39mclone()\n\u001b[1;32m    167\u001b[0m     last_steps \u001b[39m=\u001b[39m \u001b[39mself\u001b[39m\u001b[39m.\u001b[39mpaths[\u001b[39mself\u001b[39m\u001b[39m.\u001b[39mhead_id][\u001b[39m-\u001b[39m\u001b[39m2\u001b[39m:]\u001b[39m.\u001b[39mdetach()\u001b[39m.\u001b[39mclone() \u001b[39m# 2 x 3 tensor of last three streamline positions\u001b[39;00m\n",
      "File \u001b[0;32m~/tractography/image.py:80\u001b[0m, in \u001b[0;36mImage.crop\u001b[0;34m(self, center, radius, interp, padding_mode, pad, value)\u001b[0m\n\u001b[1;32m     78\u001b[0m     x_ \u001b[39m=\u001b[39m [np\u001b[39m.\u001b[39marange(x\u001b[39m-\u001b[39mr[\u001b[39m0\u001b[39m], x\u001b[39m+\u001b[39mr[\u001b[39m1\u001b[39m]\u001b[39m+\u001b[39m\u001b[39m1\u001b[39m)\u001b[39m.\u001b[39mastype(np\u001b[39m.\u001b[39mfloat32) \u001b[39mfor\u001b[39;00m x,r \u001b[39min\u001b[39;00m \u001b[39mzip\u001b[39m(center, remainder)]\n\u001b[1;32m     79\u001b[0m     phii \u001b[39m=\u001b[39m np\u001b[39m.\u001b[39mstack(np\u001b[39m.\u001b[39mmeshgrid(\u001b[39m*\u001b[39mx_, indexing\u001b[39m=\u001b[39m\u001b[39m'\u001b[39m\u001b[39mij\u001b[39m\u001b[39m'\u001b[39m))\n\u001b[0;32m---> 80\u001b[0m     patch \u001b[39m=\u001b[39m utils\u001b[39m.\u001b[39;49minterp(x, patch, phii, padding_mode\u001b[39m=\u001b[39;49mpadding_mode)\n\u001b[1;32m     82\u001b[0m \u001b[39mif\u001b[39;00m pad:\n\u001b[1;32m     83\u001b[0m     patch_size \u001b[39m=\u001b[39m \u001b[39m2\u001b[39m\u001b[39m*\u001b[39mradius\u001b[39m+\u001b[39m\u001b[39m1\u001b[39m\n",
      "File \u001b[0;32m~/tractography/utils.py:370\u001b[0m, in \u001b[0;36minterp\u001b[0;34m(x, I, phii, interp2d, **kwargs)\u001b[0m\n\u001b[1;32m    368\u001b[0m \u001b[39melse\u001b[39;00m:\n\u001b[1;32m    369\u001b[0m     phii \u001b[39m=\u001b[39m phii\u001b[39m.\u001b[39mflip(\u001b[39m0\u001b[39m)\u001b[39m.\u001b[39mpermute((\u001b[39m1\u001b[39m,\u001b[39m2\u001b[39m,\u001b[39m3\u001b[39m,\u001b[39m0\u001b[39m))[\u001b[39mNone\u001b[39;00m]\n\u001b[0;32m--> 370\u001b[0m out \u001b[39m=\u001b[39m grid_sample(I[\u001b[39mNone\u001b[39;49;00m], phii, align_corners\u001b[39m=\u001b[39;49m\u001b[39mTrue\u001b[39;49;00m, \u001b[39m*\u001b[39;49m\u001b[39m*\u001b[39;49mkwargs)\n\u001b[1;32m    372\u001b[0m \u001b[39m# note align corners true means square voxels with points at their centers\u001b[39;00m\n\u001b[1;32m    373\u001b[0m \u001b[39m# post processing, get rid of batch dimension\u001b[39;00m\n\u001b[1;32m    374\u001b[0m out \u001b[39m=\u001b[39m out[\u001b[39m0\u001b[39m]\n",
      "File \u001b[0;32m~/anaconda3/envs/tractography/lib/python3.11/site-packages/torch/nn/functional.py:4304\u001b[0m, in \u001b[0;36mgrid_sample\u001b[0;34m(input, grid, mode, padding_mode, align_corners)\u001b[0m\n\u001b[1;32m   4296\u001b[0m     warnings\u001b[39m.\u001b[39mwarn(\n\u001b[1;32m   4297\u001b[0m         \u001b[39m\"\u001b[39m\u001b[39mDefault grid_sample and affine_grid behavior has changed \u001b[39m\u001b[39m\"\u001b[39m\n\u001b[1;32m   4298\u001b[0m         \u001b[39m\"\u001b[39m\u001b[39mto align_corners=False since 1.3.0. Please specify \u001b[39m\u001b[39m\"\u001b[39m\n\u001b[1;32m   4299\u001b[0m         \u001b[39m\"\u001b[39m\u001b[39malign_corners=True if the old behavior is desired. \u001b[39m\u001b[39m\"\u001b[39m\n\u001b[1;32m   4300\u001b[0m         \u001b[39m\"\u001b[39m\u001b[39mSee the documentation of grid_sample for details.\u001b[39m\u001b[39m\"\u001b[39m\n\u001b[1;32m   4301\u001b[0m     )\n\u001b[1;32m   4302\u001b[0m     align_corners \u001b[39m=\u001b[39m \u001b[39mFalse\u001b[39;00m\n\u001b[0;32m-> 4304\u001b[0m \u001b[39mreturn\u001b[39;00m torch\u001b[39m.\u001b[39;49mgrid_sampler(\u001b[39minput\u001b[39;49m, grid, mode_enum, padding_mode_enum, align_corners)\n",
      "\u001b[0;31mKeyboardInterrupt\u001b[0m: "
     ]
    }
   ],
   "source": [
    "dqn_model.train(env,\n",
    "                episodes=num_episodes,\n",
    "                batch_size=batch_size,\n",
    "                gamma=gamma,\n",
    "                tau=tau,\n",
    "                eps_start=eps_start,\n",
    "                eps_end=eps_end,\n",
    "                eps_decay=eps_decay,\n",
    "                save_snapshots=False,\n",
    "                show=False,\n",
    "                output=\"/home/brysongray/tractography/outputs\",\n",
    "                name='')"
   ]
  },
  {
   "cell_type": "markdown",
   "metadata": {},
   "source": [
    "## view mask and density"
   ]
  },
  {
   "cell_type": "code",
   "execution_count": 12,
   "metadata": {},
   "outputs": [
    {
     "data": {
      "text/plain": [
       "<matplotlib.image.AxesImage at 0x7f968eb313d0>"
      ]
     },
     "execution_count": 12,
     "metadata": {},
     "output_type": "execute_result"
    },
    {
     "data": {
      "application/vnd.jupyter.widget-view+json": {
       "model_id": "9e2f878d9f9540cdb23b46185d3d3472",
       "version_major": 2,
       "version_minor": 0
      },
      "image/png": "[encoded data removed]",
      "text/html": [
       "\n",
       "            <div style=\"display: inline-block;\">\n",
       "                <div class=\"jupyter-widgets widget-label\" style=\"text-align: center;\">\n",
       "                    Figure\n",
       "                </div>\n",
       "                <img src='data:image/png;base64,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' width=640.0/>\n",
       "            </div>\n",
       "        "
      ],
      "text/plain": [
       "Canvas(toolbar=Toolbar(toolitems=[('Home', 'Reset original view', 'home', 'home'), ('Back', 'Back to previous …"
      ]
     },
     "metadata": {},
     "output_type": "display_data"
    }
   ],
   "source": [
    "# z=19\n",
    "fig, ax = plt.subplots(1,3)\n",
    "ax[0].imshow(env.img.data[:3].permute(1,2,3,0).amax(dim=0), alpha=1.0)\n",
    "ax[1].imshow(env.true_density.data[0].amax(dim=0), alpha=1.0, cmap='hot')\n",
    "ax[2].imshow(env.mask.data[0].amax(dim=0))"
   ]
  },
  {
   "cell_type": "markdown",
   "metadata": {},
   "source": [
    "## Test crop function"
   ]
  },
  {
   "cell_type": "code",
   "execution_count": 13,
   "metadata": {},
   "outputs": [
    {
     "data": {
      "text/plain": [
       "tensor([ 19.2739, 163.4240, 276.0488])"
      ]
     },
     "execution_count": 13,
     "metadata": {},
     "output_type": "execute_result"
    }
   ],
   "source": [
    "env.paths[0][-1]"
   ]
  },
  {
   "cell_type": "code",
   "execution_count": 17,
   "metadata": {},
   "outputs": [
    {
     "ename": "TypeError",
     "evalue": "tuple indices must be integers or slices, not tuple",
     "output_type": "error",
     "traceback": [
      "\u001b[0;31m---------------------------------------------------------------------------\u001b[0m",
      "\u001b[0;31mTypeError\u001b[0m                                 Traceback (most recent call last)",
      "\u001b[1;32m/home/brysongray/tractography/neuron_trx/notebooks/neuron_trx_tests.ipynb Cell 10\u001b[0m line \u001b[0;36m5\n\u001b[1;32m      <a href='vscode-notebook-cell:/home/brysongray/tractography/neuron_trx/notebooks/neuron_trx_tests.ipynb#Y111sZmlsZQ%3D%3D?line=2'>3</a>\u001b[0m I \u001b[39m=\u001b[39m env\u001b[39m.\u001b[39mimg\u001b[39m.\u001b[39mcrop(center\u001b[39m=\u001b[39mc, radius\u001b[39m=\u001b[39mr)[:\u001b[39m3\u001b[39m]\n\u001b[1;32m      <a href='vscode-notebook-cell:/home/brysongray/tractography/neuron_trx/notebooks/neuron_trx_tests.ipynb#Y111sZmlsZQ%3D%3D?line=3'>4</a>\u001b[0m plt\u001b[39m.\u001b[39mfigure()\n\u001b[0;32m----> <a href='vscode-notebook-cell:/home/brysongray/tractography/neuron_trx/notebooks/neuron_trx_tests.ipynb#Y111sZmlsZQ%3D%3D?line=4'>5</a>\u001b[0m plt\u001b[39m.\u001b[39mimshow(I[:, r]\u001b[39m.\u001b[39mpermute(\u001b[39m1\u001b[39m,\u001b[39m2\u001b[39m,\u001b[39m0\u001b[39m))\n",
      "\u001b[0;31mTypeError\u001b[0m: tuple indices must be integers or slices, not tuple"
     ]
    },
    {
     "data": {
      "application/vnd.jupyter.widget-view+json": {
       "model_id": "a1900ad5d5194dbfbf81d50a673ac878",
       "version_major": 2,
       "version_minor": 0
      },
      "image/png": "[encoded data removed]",
      "text/html": [
       "\n",
       "            <div style=\"display: inline-block;\">\n",
       "                <div class=\"jupyter-widgets widget-label\" style=\"text-align: center;\">\n",
       "                    Figure\n",
       "                </div>\n",
       "                <img src='data:image/png;base64,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' width=640.0/>\n",
       "            </div>\n",
       "        "
      ],
      "text/plain": [
       "Canvas(toolbar=Toolbar(toolitems=[('Home', 'Reset original view', 'home', 'home'), ('Back', 'Back to previous …"
      ]
     },
     "metadata": {},
     "output_type": "display_data"
    }
   ],
   "source": [
    "c = env.paths[0][-1]\n",
    "r = 4\n",
    "I = env.img.crop(center=c, radius=r)[:3]\n",
    "plt.figure()\n",
    "plt.imshow(I[:, r].permute(1,2,0))\n"
   ]
  },
  {
   "cell_type": "code",
   "execution_count": null,
   "metadata": {},
   "outputs": [],
   "source": [
    "DEVICE = 'cuda:0'"
   ]
  },
  {
   "cell_type": "code",
   "execution_count": null,
   "metadata": {},
   "outputs": [],
   "source": [
    "env.reset()"
   ]
  },
  {
   "cell_type": "code",
   "execution_count": null,
   "metadata": {},
   "outputs": [],
   "source": [
    "plt.close('all')"
   ]
  },
  {
   "cell_type": "code",
   "execution_count": null,
   "metadata": {},
   "outputs": [],
   "source": [
    "print(env.paths[env.head_id][-1])\n",
    "# z = int(np.round(env.paths[env.head_id][-1,0]))\n",
    "show_state(env)#, z=z)"
   ]
  },
  {
   "cell_type": "code",
   "execution_count": null,
   "metadata": {},
   "outputs": [],
   "source": [
    "plt.close('all')"
   ]
  },
  {
   "cell_type": "code",
   "execution_count": null,
   "metadata": {},
   "outputs": [],
   "source": [
    "plt.close('all')\n",
    "\n",
    "dir_dict = {'a':torch.tensor([0., 0.0, -1.0]),\n",
    "            'd':torch.tensor([0., 0.0, 1.0]),\n",
    "            'w':torch.tensor([0., -1.0, 0.0]),\n",
    "            's':torch.tensor([0., 1.0, 0.0]),\n",
    "            }\n",
    "plt.ioff()\n",
    "while True:\n",
    "    dir = input()\n",
    "    if dir == 'q':\n",
    "        break\n",
    "    clear_output(True)\n",
    "    observation, reward, terminated = env.step(dir_dict[dir], verbose=True)\n",
    "    print(reward)\n",
    "    if not terminated:\n",
    "        z = int(np.round(env.paths[env.head_id][-1,0]))\n",
    "        show_state(env, z)\n",
    "    else:\n",
    "        env.reset()"
   ]
  },
  {
   "cell_type": "code",
   "execution_count": null,
   "metadata": {},
   "outputs": [],
   "source": [
    "# get the index of action_space closest to a desired step direction\n",
    "action_id = get_closest_dir(env.action_space, torch.Tensor([0., 0., -1.]))\n",
    "print(action_id)\n",
    "print(env.action_space[action_id])"
   ]
  },
  {
   "cell_type": "code",
   "execution_count": null,
   "metadata": {},
   "outputs": [],
   "source": [
    "output='./outputs'\n",
    "episodes = 128\n"
   ]
  },
  {
   "cell_type": "code",
   "execution_count": null,
   "metadata": {},
   "outputs": [],
   "source": [
    "# Train the Network\n",
    "steps_done = 0\n",
    "episode_durations = []\n",
    "episode_returns = []\n",
    "if not os.path.exists(output):\n",
    "    os.makedirs(output)\n",
    "# for i in tqdm(range(episodes)):\n",
    "while len(dqn_model.memory) < batch_size:\n",
    "    env.reset()\n",
    "    state = env.get_state()[0].clone().to(dtype=torch.float32, device=DEVICE)\n",
    "    ep_return = 0\n",
    "    for t in count():\n",
    "        action_id = dqn_model.select_action(env.action_space, state, steps_done, eps_start, eps_end, eps_decay)\n",
    "        # observation, reward, terminated = env.step(env.action_space[action_id])\n",
    "        action = env.action_space[action_id]\n",
    "\n",
    "        # step\n",
    "        terminated = False\n",
    "\n",
    "        # add new position to path\n",
    "        while True:\n",
    "            new_position = env.paths[env.head_id][-1] + env.step_size*action\n",
    "            out_of_bound = any([x >= y or x < 0 for x,y in zip(torch.round(new_position), env.img.data.shape[1:])])\n",
    "            if out_of_bound:\n",
    "                action = env.action_space[int(np.random.randint(len(env.action_space)))]\n",
    "            else:\n",
    "                break\n",
    "\n",
    "        env.paths[env.head_id] = torch.cat((env.paths[env.head_id], new_position[None]))\n",
    "        # decide if path terminates\n",
    "        # out_of_mask = env.mask[tuple([int(x) for x in env.paths[env.head_id][-1]])]\n",
    "        too_long = len(env.paths[env.head_id]) > env.max_len\n",
    "        self_terminate = not any(action)\n",
    "        terminate_path = too_long or self_terminate\n",
    "\n",
    "        if terminate_path:\n",
    "            observation = None\n",
    "            reward = torch.tensor([0.], device=DEVICE)\n",
    "            # remove the path from 'paths' and add it to 'ended_paths'\n",
    "            env.ended_paths.append(env.paths.pop(env.head_id))\n",
    "            # if that was the last path in the list, then terminate the episode\n",
    "            if len(env.paths) == 0:\n",
    "                terminated = True\n",
    "            else:\n",
    "                env.head_id = (env.head_id + 1)%len(env.paths)\n",
    "        else:\n",
    "            center = env.paths[env.head_id][-2]\n",
    "            r = env.radius + int(np.ceil(env.step_size.max()))\n",
    "            true_density_patch, _ = env.true_density.crop(center, radius=r) # patch centered at previous step position\n",
    "            old_density_patch, _ = env.img.crop(center, radius=r)\n",
    "            old_density_patch = old_density_patch.detach().clone()[-1][None] # need to make a copy or else this will be modified by adding a point to img\n",
    "            # add_bundle_point(env.img, env.paths[env.head_id][-1], env.ball)\n",
    "            segment = env.paths[env.head_id][-2:, :3]\n",
    "            env.img.draw_line_segment(segment, width=1.0)\n",
    "            new_density_patch, _ = env.img.crop(center, radius=r)\n",
    "            new_density_patch = new_density_patch[-1][None]\n",
    "            delta_density_diff = density_error_change(true_density_patch, old_density_patch, new_density_patch)\n",
    "            observation = env.get_state()\n",
    "            reward = env.get_reward(terminated, delta_density_diff)\n",
    "\n",
    "            env.head_id = (env.head_id + 1)%len(env.paths)\n",
    "        # end step\n",
    "            \n",
    "        ep_return += reward\n",
    "\n",
    "        if terminated: # episode terminated\n",
    "            next_state = None\n",
    "        else:\n",
    "            next_state = observation # if the streamline terminated observation is None\n",
    "            if next_state is not None:\n",
    "                next_state = next_state[0].clone().to(dtype=torch.float32, device=DEVICE)\n",
    "\n",
    "        # Store the transition in memory\n",
    "        dqn_model.memory.push(state, action_id, next_state, reward)\n",
    "\n",
    "        # Perform one step of the optimization (on the policy network)\n",
    "        dqn_model.optimize_model(batch_size, gamma)\n",
    "\n",
    "        # Soft update of the target network's weights\n",
    "        # θ′ ← τ θ + (1 −τ )θ′\n",
    "        target_net_state_dict = dqn_model.target_net.state_dict()\n",
    "        policy_net_state_dict = dqn_model.policy_net.state_dict()\n",
    "        for key in policy_net_state_dict:\n",
    "            target_net_state_dict[key] = policy_net_state_dict[key]*tau + target_net_state_dict[key]*(1-tau)\n",
    "        dqn_model.target_net.load_state_dict(target_net_state_dict)\n",
    "\n",
    "        if terminated:\n",
    "            episode_durations.append(t + 1)\n",
    "            episode_returns.append(ep_return)\n",
    "            # if show:\n",
    "            #     plot_durations(episode_durations)\n",
    "            #     plot_returns(episode_returns)\n",
    "            # if save_snapshots:\n",
    "            #     if i%10 == 0:\n",
    "            #         torch.save(env.img.data[-1].detach().clone(), os.path.join(output, f'bundle_density_ep{i}.pt'))\n",
    "            #         torch.save(target_net_state_dict, os.path.join(output, f'model_state_dict_{name}.pt'))\n",
    "            #         torch.save(episode_durations, os.path.join(output, 'episode_durations_{name}.pt'))\n",
    "            #         torch.save(episode_returns, os.path.join(output, 'episode_returns_{name}.pt'))\n",
    "            break\n",
    "        # if not terminated, move to the next state\n",
    "        state = env.get_state()[0].to(dtype=torch.float32, device=DEVICE) # the head of the next streamline"
   ]
  },
  {
   "cell_type": "code",
   "execution_count": null,
   "metadata": {},
   "outputs": [],
   "source": [
    "show_state(env)"
   ]
  },
  {
   "cell_type": "code",
   "execution_count": null,
   "metadata": {},
   "outputs": [],
   "source": [
    "dqn_model.policy_net.state_dict()['conv1.bias'].ne(dqn_model.target_net.state_dict()['conv1.bias']).sum()"
   ]
  },
  {
   "cell_type": "code",
   "execution_count": null,
   "metadata": {},
   "outputs": [],
   "source": [
    "# Perform one step of the optimization (on the policy network)\n",
    "dqn_model_params = dqn_model.policy_net.parameters().detach().clone()\n",
    "print(dqn_model.policy_net.state_dict()['conv1.bias'])\n",
    "dqn_model.optimize_model(batch_size, gamma)\n",
    "print(dqn_model.policy_net.state_dict()['conv1.bias'])\n",
    "dqn_model_params_after = dqn_model.policy_net.parameters()\n",
    "\n",
    "for p1, p2 in zip(dqn_model_params, dqn_model_params_after):\n",
    "    if p1.data.ne(p2.data).sum() > 0:\n",
    "        print(\"Not equal\")\n",
    "    else:\n",
    "        print('Equal')"
   ]
  },
  {
   "cell_type": "code",
   "execution_count": null,
   "metadata": {},
   "outputs": [],
   "source": [
    "dqn_model.policy_net.state_dict()['conv1.bias']"
   ]
  },
  {
   "cell_type": "code",
   "execution_count": null,
   "metadata": {},
   "outputs": [],
   "source": [
    "dqn_model_params_after['conv1.bias']"
   ]
  },
  {
   "cell_type": "code",
   "execution_count": null,
   "metadata": {},
   "outputs": [],
   "source": [
    "# Soft update of the target network's weights\n",
    "# θ′ ← τ θ + (1 −τ )θ′\n",
    "target_net_state_dict = dqn_model.target_net.state_dict()\n",
    "policy_net_state_dict = dqn_model.policy_net.state_dict()\n",
    "for key in policy_net_state_dict:\n",
    "    target_net_state_dict[key] = policy_net_state_dict[key]*tau + target_net_state_dict[key]*(1-tau)\n",
    "dqn_model.target_net.load_state_dict(target_net_state_dict)"
   ]
  },
  {
   "cell_type": "code",
   "execution_count": null,
   "metadata": {},
   "outputs": [],
   "source": [
    "if terminated:\n",
    "    episode_durations.append(t + 1)\n",
    "    episode_returns.append(ep_return)\n",
    "    print('Terminated')"
   ]
  },
  {
   "cell_type": "code",
   "execution_count": null,
   "metadata": {},
   "outputs": [],
   "source": []
  },
  {
   "cell_type": "code",
   "execution_count": null,
   "metadata": {},
   "outputs": [],
   "source": [
    "config_path = \"/home/brysongray/tractography/neuron_trx/configs/config.json\"\n",
    "f = open(config_path)\n",
    "config = json.load(f)\n",
    "print(type(config))"
   ]
  },
  {
   "cell_type": "code",
   "execution_count": null,
   "metadata": {},
   "outputs": [],
   "source": [
    "train_dqn_tracker.main(config)"
   ]
  },
  {
   "cell_type": "markdown",
   "metadata": {},
   "source": [
    "# View results"
   ]
  },
  {
   "cell_type": "code",
   "execution_count": null,
   "metadata": {},
   "outputs": [],
   "source": [
    "name = \"alpha-4.0_b-1.0_f-0.0_n-1\"\n",
    "output = \"/home/brysongray/tractography/outputs/\"\n",
    "returns = torch.load(os.path.join(output, f\"episode_returns_{name}.pt\"))\n",
    "durations = torch.load(os.path.join(output, f\"episode_durations_{name}.pt\"))\n",
    "loss = torch.load(os.path.join(output, f\"loss_{name}.pt\"))\n",
    "eps = torch.load(os.path.join(output, f\"eps_{name}.pt\"))\n",
    "lr = torch.load(os.path.join(output, f\"lr_{name}.pt\"))"
   ]
  },
  {
   "cell_type": "code",
   "execution_count": null,
   "metadata": {},
   "outputs": [],
   "source": [
    "dqn_tracker.plot_returns(returns, show_result=False)\n",
    "dqn_tracker.plot_durations(durations, show_result=False)"
   ]
  },
  {
   "cell_type": "code",
   "execution_count": null,
   "metadata": {},
   "outputs": [],
   "source": [
    "fig, ax = plt.subplots(1,3)\n",
    "ax[0].plot(eps)\n",
    "ax[0].set_title(\"epsilon\")\n",
    "ax[1].plot(lr, label=\"lr\")\n",
    "ax[1].set_title(\"learning rate\")\n",
    "ax[2].plot(loss, label=\"loss\")\n",
    "ax[2].set_title(\"loss\")"
   ]
  },
  {
   "cell_type": "code",
   "execution_count": null,
   "metadata": {},
   "outputs": [],
   "source": [
    "fname = '/home/brysongray/tractography/outputs/bundle_density_ep1.pt'\n",
    "density = torch.load(fname)\n",
    "print(density.shape)"
   ]
  },
  {
   "cell_type": "code",
   "execution_count": null,
   "metadata": {},
   "outputs": [],
   "source": [
    "plt.close('all')\n",
    "fig, ax = plt.subplots(2,3)\n",
    "for r in range(2):\n",
    "    for c in range(3):\n",
    "        i = (r+1)*(c+1)\n",
    "        if i == 7:\n",
    "            break\n",
    "        fname = f'/home/brysongray/tractography/outputs/bundle_density_ep{i-1}.pt'\n",
    "        density = torch.load(fname)\n",
    "        D = density.amax(dim=0)\n",
    "        I = env.img.data[:3].amax(dim=(1))\n",
    "        T = env.true_density.data.amax(dim=(0,1))\n",
    "        ax[r][c].imshow(D, cmap='hot', alpha=0.5)\n",
    "        # ax[r][c].imshow(I.permute(1,2,0), alpha=0.5)\n",
    "        # ax[r][c].imshow(B, cmap='gray', alpha=0.5)\n",
    "        ax[r][c].imshow(T, cmap='gray', alpha=0.5)\n",
    "\n",
    "# plt.imshow(T, cmap='gray', alpha=0.5)\n"
   ]
  },
  {
   "cell_type": "markdown",
   "metadata": {},
   "source": [
    "# Inference"
   ]
  },
  {
   "cell_type": "code",
   "execution_count": null,
   "metadata": {},
   "outputs": [],
   "source": [
    "f = open('/home/brysongray/tractography/neuron_trx/configs/config.json')\n",
    "args = json.load(f)\n",
    "\n",
    "img_file = args[\"image\"]\n",
    "label_file = args[\"label\"]\n",
    "seeds = args[\"seeds\"]\n",
    "model = args[\"model\"] if \"model\" in args else None\n",
    "n_seeds = args[\"n_seeds\"] if \"n_seeds\" in args else 1\n",
    "step_size = args[\"step_size\"] if \"step_size\" in args else 1.0\n",
    "step_width = args[\"step_width\"] if \"step_width\" in args else 1.0\n",
    "batch_size = args[\"batchsize\"] if \"batchsize\" in args else 128\n",
    "gamma = args[\"gamma\"] if \"gamma\" in args else 0.99\n",
    "eps_start = args[\"eps_start\"] if \"eps_start\" in args else 0.9\n",
    "eps_end = args[\"eps_end\"] if \"eps_end\" in args else 0.01\n",
    "eps_decay = args[\"eps_decay\"] if \"eps_decay\" in args else 1000\n",
    "tau = args[\"tau\"] if \"tau\" in args else 0.001\n",
    "lr = args[\"lr\"] if \"lr\" in args else 5e-4\n",
    "alpha = args[\"alpha\"] if \"alpha\" in args else 1.0\n",
    "beta = args[\"beta\"] if \"beta\" in args else 1e-3\n",
    "friction = args[\"friction\"] if \"friction\" in args else 1e-4\n",
    "num_episodes = args[\"num_episodes\"] if \"num_episodes\" in args else 100\n",
    "pixelsize = args[\"pixelsize\"] if \"pixelsize\" in args else [1.0, 1.0, 1.0]\n",
    "patch_radius = 17\n",
    "actions = np.load('/home/brysongray/tractography/neuron_trx/action_space_6_dir.npy')\n",
    "\n",
    "img, density, mask = load_data(img_file, label_file, pixelsize=pixelsize, inverse=True)\n",
    "\n",
    "env = Environment(img,\n",
    "                    patch_radius,\n",
    "                    seeds,\n",
    "                    mask,\n",
    "                    density,\n",
    "                    actions,\n",
    "                    n_seeds=n_seeds,\n",
    "                    step_size=step_size,\n",
    "                    step_width=step_width,\n",
    "                    max_len=10000,\n",
    "                    alpha=alpha,\n",
    "                    beta=beta,\n",
    "                    friction=friction)\n",
    "\n",
    "model = DQNModel(4, n_actions=len(actions), input_size=(2*patch_radius+1))\n",
    "params = torch.load(\"/home/brysongray/tractography/outputs/model_state_dict_alpha-3.0_b-0.0_f-0.0_n-1.pt\")\n",
    "\n",
    "model.load_model(params)\n"
   ]
  },
  {
   "cell_type": "code",
   "execution_count": null,
   "metadata": {},
   "outputs": [],
   "source": [
    "plt.figure()\n",
    "plt.imshow(env.true_density.data[0,19])"
   ]
  },
  {
   "cell_type": "code",
   "execution_count": null,
   "metadata": {},
   "outputs": [],
   "source": [
    "env.bundle_density.data.shape\n",
    "en"
   ]
  },
  {
   "cell_type": "code",
   "execution_count": null,
   "metadata": {},
   "outputs": [],
   "source": [
    "env.reset()"
   ]
  },
  {
   "cell_type": "code",
   "execution_count": null,
   "metadata": {},
   "outputs": [],
   "source": [
    "# seeds = [[25,382,380]]\n",
    "# env.seeds = seeds\n",
    "env = model.inference(env)"
   ]
  },
  {
   "cell_type": "code",
   "execution_count": null,
   "metadata": {},
   "outputs": [],
   "source": [
    "I = np.array(env.img.data.to('cpu'))\n",
    "T = np.array(env.true_density.data.to('cpu'))\n",
    "B = np.array(env.bundle_density.data.to('cpu'))\n",
    "I = I.max(axis=1)\n",
    "T = T[0].max(axis=0)\n",
    "B = B[0].max(axis=0)\n",
    "fig, ax = plt.subplots(1,2)\n",
    "ax[0].imshow(I[-1], cmap='hot', alpha=0.5) #, int(paths[env.head_id][-1, 0])])\n",
    "ax[0].imshow(I[:3].transpose(1,2,0), alpha=0.5)\n",
    "ax[1].imshow(B, cmap='hot', alpha=0.5)\n",
    "ax[1].imshow(T, cmap='gray', alpha=0.5)\n",
    "\n",
    "plt.show()"
   ]
  },
  {
   "cell_type": "markdown",
   "metadata": {},
   "source": [
    "## Compare models"
   ]
  },
  {
   "cell_type": "code",
   "execution_count": null,
   "metadata": {},
   "outputs": [],
   "source": [
    "dir = \"/home/brysongray/tractography/outputs\"\n",
    "outputs = os.listdir(dir)\n",
    "\n",
    "returns_files = [o for o in outputs if \"returns\" in o]\n",
    "durations_files = [o for o in outputs if \"durations\" in o]\n",
    "returns_files.sort()\n",
    "durations_files.sort()\n",
    "\n",
    "returns = []\n",
    "durations = []\n",
    "for i in range(len(returns_files)):\n",
    "    returns.append(torch.tensor(torch.load(os.path.join(dir,returns_files[i]))))\n",
    "    durations.append(torch.tensor(torch.load(os.path.join(dir,durations_files[i]))))\n"
   ]
  },
  {
   "cell_type": "code",
   "execution_count": null,
   "metadata": {},
   "outputs": [],
   "source": [
    "Z = np.zeros(len(returns))\n",
    "for i,r in enumerate(returns):\n",
    "    q95 = torch.quantile(r, q=torch.tensor(0.95))\n",
    "    q05 = torch.quantile(r, q=torch.tensor(0.05))\n",
    "    q50 = torch.median(torch.abs(r))\n",
    "    v = torch.var(r)\n",
    "    alpha = float(returns_files[i].split(sep=\"episode_returns_alpha-\")[1][:3])\n",
    "    Z[i]= (q95 - q05) / alpha\n",
    "\n"
   ]
  },
  {
   "cell_type": "code",
   "execution_count": null,
   "metadata": {},
   "outputs": [],
   "source": [
    "print(returns_files[np.argmax(Z)])\n",
    "print(max(Z))"
   ]
  },
  {
   "cell_type": "code",
   "execution_count": null,
   "metadata": {},
   "outputs": [],
   "source": [
    "i = np.argmax(Z)\n",
    "ep_returns = torch.tensor(torch.load(os.path.join(dir,returns_files[i])))\n",
    "ep_durations = torch.tensor(torch.load(os.path.join(dir,durations_files[i])))"
   ]
  },
  {
   "cell_type": "code",
   "execution_count": null,
   "metadata": {},
   "outputs": [],
   "source": [
    "fig, ax = plt.subplots(1,2)\n",
    "ax[0].plot(ep_returns.numpy())\n",
    "ax[1].plot(ep_durations.numpy())"
   ]
  },
  {
   "cell_type": "code",
   "execution_count": null,
   "metadata": {},
   "outputs": [],
   "source": [
    "fig, ax = plt.subplots(1,2)\n",
    "ax[0].plot(ep_returns.numpy())\n",
    "ax[1].plot(ep_durations.numpy())"
   ]
  },
  {
   "cell_type": "code",
   "execution_count": null,
   "metadata": {},
   "outputs": [],
   "source": [
    "fig, ax = plt.subplots(1,2)\n",
    "ax[0].plot(ep_returns.numpy())\n",
    "ax[1].plot(ep_durations.numpy())"
   ]
  }
 ],
 "metadata": {
  "kernelspec": {
   "display_name": "tractography",
   "language": "python",
   "name": "python3"
  },
  "language_info": {
   "codemirror_mode": {
    "name": "ipython",
    "version": 3
   },
   "file_extension": ".py",
   "mimetype": "text/x-python",
   "name": "python",
   "nbconvert_exporter": "python",
   "pygments_lexer": "ipython3",
   "version": "3.11.5"
  },
  "orig_nbformat": 4
 },
 "nbformat": 4,
 "nbformat_minor": 2
}
