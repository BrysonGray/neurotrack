{
 "cells": [
  {
   "cell_type": "markdown",
   "metadata": {},
   "source": [
    "# Branch Classifier"
   ]
  },
  {
   "cell_type": "code",
   "execution_count": 1,
   "metadata": {},
   "outputs": [],
   "source": [
    "%load_ext autoreload\n",
    "%autoreload 2\n",
    "%matplotlib inline"
   ]
  },
  {
   "cell_type": "code",
   "execution_count": 13,
   "metadata": {},
   "outputs": [],
   "source": [
    "from datetime import datetime\n",
    "from glob import glob\n",
    "import matplotlib.pyplot as plt\n",
    "import numpy as np\n",
    "import os\n",
    "import pandas as pd\n",
    "import sys\n",
    "import torch\n",
    "\n",
    "sys.path.append(\"../\")\n",
    "from data_prep import collect, load\n",
    "from solvers import branch_classifier\n",
    "import models\n",
    "DATE = datetime.now().strftime(\"%m-%d-%y\")\n",
    "DTYPE = torch.float32\n",
    "DEVICE = \"cuda\" if torch.cuda.is_available() else \"cpu\""
   ]
  },
  {
   "cell_type": "markdown",
   "metadata": {},
   "source": [
    "## Collect branch classifier training data\n",
    "Training data consists of volumetric image patches chosen randomly from the neuron node coordinates given\\\n",
    "in the SWC file with an added small random translation. Image patches are labeled 1 if they are centered on\\\n",
    " a branch point and 0 otherwise."
   ]
  },
  {
   "cell_type": "markdown",
   "metadata": {},
   "source": [
    "### First define input and output directories"
   ]
  },
  {
   "cell_type": "code",
   "execution_count": null,
   "metadata": {},
   "outputs": [],
   "source": [
    "# Location of neuron morphology swc files \n",
    "labels_dir = \"/home/brysongray/data/neurotrack_data/simulated_neurons/neuromorpho/swc_trees/neuromorpho_sub1\"\n",
    "\n",
    "# Location of neuron images. These images should be the output of \"simulate_neurons.py\"\n",
    "# which are in a specific format.\n",
    "image_dir = os.path.expanduser(\"~/data/neurotrack_data/simulated_neurons/neuromorpho/neuromorpho_with_artifacts_sub/\")\n",
    "\n",
    "# Output directory for the classifier\n",
    "# This directory will contain the data, labels, trained model and training logs.\n",
    "out_dir = os.path.expanduser(\"~/data/neurotrack_data/branch_classifier_data/neuromorpho_classifier_data/neuromorpho_test/\")\n",
    "if not os.path.exists(out_dir):\n",
    "    os.makedirs(out_dir, exist_ok=True)\n",
    "\n"
   ]
  },
  {
   "cell_type": "markdown",
   "metadata": {},
   "source": [
    "### Get sample points from swc files"
   ]
  },
  {
   "cell_type": "code",
   "execution_count": null,
   "metadata": {},
   "outputs": [
    {
     "name": "stdout",
     "output_type": "stream",
     "text": [
      "loading file: /home/brysongray/data/neurotrack_data/simulated_neurons/neuromorpho/swc_trees/neuromorpho_sub1/beining/CNG version/35dpi_ipsi_infra_06.CNG.swc\n",
      "loading file: /home/brysongray/data/neurotrack_data/simulated_neurons/neuromorpho/swc_trees/neuromorpho_sub1/campos/CNG version/Astro-1.CNG.swc\n",
      "loading file: /home/brysongray/data/neurotrack_data/simulated_neurons/neuromorpho/swc_trees/neuromorpho_sub1/allen cell types/CNG version/646805498_transformed.CNG.swc\n"
     ]
    }
   ],
   "source": [
    "# Load SWC file data into python lists\n",
    "files = [f for x in os.walk(labels_dir) for f in glob(os.path.join(x[0], '*.swc'))]\n",
    "swc_lists = []\n",
    "for f in files:\n",
    "    swc_lists.append(load.swc(f))\n",
    "\n",
    "# Collect random sample points from SWC data\n",
    "samples_per_file = 300\n",
    "fnames = [f.split('/')[-1].split('.')[0] for f in files]\n",
    "sample_points = collect.swc_random_points(samples_per_file, swc_lists, fnames, adjust=True)"
   ]
  },
  {
   "cell_type": "markdown",
   "metadata": {},
   "source": [
    "### Save sample patches and labels from image files"
   ]
  },
  {
   "cell_type": "code",
   "execution_count": null,
   "metadata": {},
   "outputs": [],
   "source": [
    "# save sample patches from the images centered at the sample points\n",
    "name = \"neuromorpho_test\"\n",
    "collect.collect_data(sample_points, image_dir, out_dir, name)"
   ]
  },
  {
   "cell_type": "markdown",
   "metadata": {},
   "source": [
    "### View some example input images"
   ]
  },
  {
   "cell_type": "code",
   "execution_count": 33,
   "metadata": {},
   "outputs": [
    {
     "data": {
      "image/png": "[encoded data removed]",
      "text/plain": [
       "<Figure size 640x480 with 9 Axes>"
      ]
     },
     "metadata": {},
     "output_type": "display_data"
    }
   ],
   "source": [
    "observations = os.listdir(os.path.join(out_dir, f\"observations_{DATE}\"))\n",
    "training_annotations = pd.read_csv(glob(os.path.join(out_dir, \"*_labels.csv\"))[0])\n",
    "ids = np.random.choice(len(training_annotations), size=9)\n",
    "sample = training_annotations.iloc[ids]\n",
    "\n",
    "fig, ax = plt.subplots(3,3)\n",
    "ax = ax.flatten()\n",
    "for i in range(len(ax)):\n",
    "    img = torch.load(os.path.join(out_dir,f\"observations_{DATE}\", sample.iloc[i,0]), weights_only=True) # type: ignore\n",
    "    ax[i].imshow(img[0].amax(0))\n",
    "    ax[i].set_title(f\"label: {sample.iloc[i,1].item()}\")\n",
    "    ax[i].set_axis_off()\n",
    "\n",
    "    "
   ]
  },
  {
   "cell_type": "markdown",
   "metadata": {},
   "source": [
    "## Train branch classifier"
   ]
  },
  {
   "cell_type": "markdown",
   "metadata": {},
   "source": [
    "### Instantiate dataloader for training and test datasets\n",
    "Dataloaders use a weighted random sampler to balance classes. Additionally, the training dataset\\\n",
    " adds a random permutation and flip to the image patch at retrieval."
   ]
  },
  {
   "cell_type": "code",
   "execution_count": 34,
   "metadata": {},
   "outputs": [],
   "source": [
    "# set source data files paths\n",
    "training_labels_file = os.path.join(out_dir, f\"branch_classifier_neuromorpho_test_{DATE}_training_labels.csv\")\n",
    "test_labels_file = os.path.join(out_dir, f\"branch_classifier_neuromorpho_test_{DATE}_test_labels.csv\")\n",
    "img_dir = os.path.join(out_dir, f\"observations_{DATE}\")\n",
    "\n",
    "# instantiate training and test datasets\n",
    "transform = branch_classifier.transform # random permutation and flip\n",
    "training_data = branch_classifier.StateData(labels_file=training_labels_file,\n",
    "                          img_dir=img_dir,\n",
    "                          transform=transform)\n",
    "test_data = branch_classifier.StateData(labels_file=test_labels_file,\n",
    "                          img_dir=img_dir)\n",
    "\n",
    "# instantiate dataloaders\n",
    "training_dataloader = branch_classifier.init_dataloader(training_data, batchsize=64)\n",
    "test_dataloader = branch_classifier.init_dataloader(test_data, batchsize=64)"
   ]
  },
  {
   "cell_type": "markdown",
   "metadata": {},
   "source": [
    "## View balanced data"
   ]
  },
  {
   "cell_type": "code",
   "execution_count": 35,
   "metadata": {},
   "outputs": [
    {
     "data": {
      "image/png": "[encoded data removed]",
      "text/plain": [
       "<Figure size 640x480 with 9 Axes>"
      ]
     },
     "metadata": {},
     "output_type": "display_data"
    }
   ],
   "source": [
    "fig, axs = plt.subplots(3,3)\n",
    "axs = axs.flatten()\n",
    "\n",
    "X,y = next(iter(training_dataloader))\n",
    "for i, ax in enumerate(axs):\n",
    "    ax.imshow(X[i,0].amax(0))\n",
    "    ax.set_title(f\"Label: {y[i]}\")\n",
    "    ax.set_axis_off()"
   ]
  },
  {
   "cell_type": "markdown",
   "metadata": {},
   "source": [
    "## Train"
   ]
  },
  {
   "cell_type": "code",
   "execution_count": 39,
   "metadata": {},
   "outputs": [
    {
     "name": "stderr",
     "output_type": "stream",
     "text": [
      "Training epochs: 100%|██████████| 5/5 [00:15<00:00,  3.19s/it]\n"
     ]
    }
   ],
   "source": [
    "# instantiate and train the classifier\n",
    "lr = 1e-3\n",
    "epochs = 5\n",
    "classifier = models.ResNet3D(models.ResidualBlock3D, [3, 4, 6, 3], num_classes=1)\n",
    "classifier = classifier.to(device=DEVICE, dtype=DTYPE)\n",
    "\n",
    "# Training logs are saved to the output directory\n",
    "branch_classifier.train(training_dataloader, test_dataloader, out_dir, lr, epochs, classifier, state_dict=None)"
   ]
  },
  {
   "cell_type": "code",
   "execution_count": 40,
   "metadata": {},
   "outputs": [
    {
     "name": "stdout",
     "output_type": "stream",
     "text": [
      "Training started at 2025-06-26 15:36:28\n",
      "Learning rate: 0.001\n",
      "Total epochs: 5\n",
      "\n",
      "Epoch 1\n",
      "-------------------------------\n",
      "Accuracy: 45.3125, Loss: 0.700314  [   64/  720]\n",
      "Accuracy: 56.25, Loss: 0.793185  [  704/  720]\n",
      "Test Error:\n",
      "Accuracy: 52.8%, Avg loss: 22.499360\n",
      "Precision: 0.528, Recall: 1.000\n",
      "Epoch 2\n",
      "-------------------------------\n",
      "Accuracy: 45.3125, Loss: 0.849842  [   64/  720]\n",
      "Accuracy: 53.125, Loss: 0.673285  [  704/  720]\n",
      "Test Error:\n",
      "Accuracy: 59.4%, Avg loss: 9.390966\n",
      "Precision: 1.000, Recall: 0.027\n",
      "Epoch 3\n",
      "-------------------------------\n",
      "Accuracy: 62.5, Loss: 0.649782  [   64/  720]\n",
      "Accuracy: 57.8125, Loss: 0.647150  [  704/  720]\n",
      "Test Error:\n",
      "Accuracy: 50.0%, Avg loss: 10.020075\n",
      "Precision: 0.482, Recall: 0.964\n",
      "Epoch 4\n",
      "-------------------------------\n",
      "Accuracy: 70.3125, Loss: 0.642213  [   64/  720]\n",
      "Accuracy: 59.375, Loss: 0.614109  [  704/  720]\n",
      "Test Error:\n",
      "Accuracy: 47.8%, Avg loss: 0.919053\n",
      "Precision: 0.571, Recall: 0.083\n",
      "Epoch 5\n",
      "-------------------------------\n",
      "Accuracy: 64.0625, Loss: 0.610191  [   64/  720]\n",
      "Accuracy: 65.625, Loss: 0.634910  [  704/  720]\n",
      "Test Error:\n",
      "Accuracy: 63.9%, Avg loss: 0.335915\n",
      "Precision: 0.595, Recall: 0.843\n",
      "Done!\n"
     ]
    }
   ],
   "source": [
    "# Load and print training logs\n",
    "logs = os.path.join(out_dir, \"training_logs.txt\")\n",
    "with open(logs, \"r\") as f:\n",
    "    lines = f.readlines()\n",
    "    for line in lines:\n",
    "        print(line.strip())"
   ]
  }
 ],
 "metadata": {
  "kernelspec": {
   "display_name": "tractography",
   "language": "python",
   "name": "python3"
  },
  "language_info": {
   "codemirror_mode": {
    "name": "ipython",
    "version": 3
   },
   "file_extension": ".py",
   "mimetype": "text/x-python",
   "name": "python",
   "nbconvert_exporter": "python",
   "pygments_lexer": "ipython3",
   "version": "3.12.2"
  }
 },
 "nbformat": 4,
 "nbformat_minor": 2
}
