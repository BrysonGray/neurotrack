{
 "cells": [
  {
   "cell_type": "code",
   "execution_count": 1,
   "metadata": {},
   "outputs": [],
   "source": [
    "%load_ext autoreload\n",
    "%autoreload 2\n",
    "%matplotlib widget"
   ]
  },
  {
   "cell_type": "code",
   "execution_count": 2,
   "metadata": {},
   "outputs": [],
   "source": [
    "import numpy as np\n",
    "import torch\n",
    "import matplotlib\n",
    "from matplotlib import pyplot as plt\n",
    "import random\n",
    "import json\n",
    "import sys\n",
    "sys.path.insert(0,'/home/brysongray/tractography/')\n",
    "import dqn_tracker\n",
    "import tracking_env\n",
    "import train_dqn_tracker\n",
    "from load_data import load_data\n",
    "from tracking_env import Environment, density_error_change\n",
    "from dqn_tracker import DQNModel\n",
    "import os\n",
    "from itertools import count\n",
    "from tqdm import tqdm\n",
    "from image import Image\n",
    "from skimage.filters import gaussian\n",
    "from IPython.display import display, clear_output"
   ]
  },
  {
   "cell_type": "code",
   "execution_count": 3,
   "metadata": {},
   "outputs": [],
   "source": [
    "def show_state(env, z=None, finished=False, path_id=0, t=-1):\n",
    "    \n",
    "    if finished:\n",
    "        paths = env.finished_paths\n",
    "    else:\n",
    "        paths = env.paths\n",
    "        path_id = env.head_id\n",
    "\n",
    "    state, _ = env.img.crop(paths[path_id][t], env.radius, pad=True, value=0.0)\n",
    "    state = state.detach().clone()\n",
    "    true_density_patch, _ = env.true_density.crop(paths[path_id][t], env.radius, pad=True)\n",
    "    bundle_density_patch, _ = env.bundle_density.crop(paths[path_id][t], env.radius, pad=True)\n",
    "    mask = Image(env.mask)\n",
    "    mask_patch, _ = mask.crop(paths[path_id][t], env.radius, interp=False, pad=True)\n",
    "    I = np.array(env.img.data.to('cpu'))\n",
    "    D = np.array(env.true_density.data.to('cpu'))\n",
    "    O = np.array(state.to('cpu'))\n",
    "    T = np.array(true_density_patch.to('cpu'))\n",
    "    B = np.array(bundle_density_patch.to('cpu'))\n",
    "    M = np.array(mask_patch.to('cpu'))\n",
    "    if z is not None:\n",
    "        z_ = state.shape[2]//2\n",
    "        I = I[:, z]\n",
    "        D = D[0,z]\n",
    "        O = O[:, z_]\n",
    "        T = T[0,z_]\n",
    "        B = B[0,z_]\n",
    "        M = M[0,z_]\n",
    "    else: # project along z\n",
    "        I = I.max(axis=1)\n",
    "        D = D[0].max(axis=0)\n",
    "        O = O.max(axis=1)\n",
    "        T = T[0].max(axis=0)\n",
    "        B = B[0].max(axis=0)\n",
    "        M = M[0].max(axis=0)\n",
    "    plt.cla()\n",
    "    fig, ax = plt.subplots(1,3)\n",
    "    ax[0].imshow(I[-1], cmap='hot', alpha=0.5) #, int(paths[env.head_id][-1, 0])])\n",
    "    ax[0].imshow(I[:3].transpose(1,2,0), alpha=0.5) #, int(paths[env.head_id][-1, 0])])\n",
    "    ax[0].axis('off')\n",
    "    ax[1].imshow(O[:3].transpose(1,2,0), alpha=0.75)\n",
    "    ax[1].imshow(O[-1], alpha=0.25, cmap='hot') #, env.radius//2])\n",
    "    ax[1].axis('off')\n",
    "    toshow = np.stack((B, T, M), axis=-1)\n",
    "    ax[2].imshow(toshow)\n",
    "    ax[2].axis('off')\n",
    "\n",
    "    display(fig)\n",
    "\n",
    "def get_closest_dir(action_space, dir):\n",
    "    d = np.dot(action_space, dir[:,None])\n",
    "    idx = d.argmax()\n",
    "\n",
    "    return idx"
   ]
  },
  {
   "cell_type": "code",
   "execution_count": 4,
   "metadata": {},
   "outputs": [
    {
     "name": "stderr",
     "output_type": "stream",
     "text": [
      "\n",
      "\u001b[1;33m/home/brysongray/tractography/data/Cerebellar Climbing Fibers/Gold Standard Reconstructions/CF_1.swc:1506:warning\u001b[0m\n",
      "Warning: zero diameter in file\n",
      "\n",
      "\u001b[1;33m/home/brysongray/tractography/data/Cerebellar Climbing Fibers/Gold Standard Reconstructions/CF_1.swc:1493:warning\u001b[0m\n",
      "Warning: zero diameter in file\n",
      "\n",
      "\u001b[1;33m/home/brysongray/tractography/data/Cerebellar Climbing Fibers/Gold Standard Reconstructions/CF_1.swc:1322:warning\u001b[0m\n",
      "Warning: zero diameter in file\n",
      "\n",
      "\u001b[1;33m/home/brysongray/tractography/data/Cerebellar Climbing Fibers/Gold Standard Reconstructions/CF_1.swc:1216:warning\u001b[0m\n",
      "Warning: zero diameter in file\n",
      "\n",
      "\u001b[1;33m/home/brysongray/tractography/data/Cerebellar Climbing Fibers/Gold Standard Reconstructions/CF_1.swc:1118:warning\u001b[0m\n",
      "Warning: zero diameter in file\n",
      "\n",
      "\u001b[1;33m/home/brysongray/tractography/data/Cerebellar Climbing Fibers/Gold Standard Reconstructions/CF_1.swc:0:warning\u001b[0m\n",
      "Warning: no soma found in file\n"
     ]
    }
   ],
   "source": [
    "f = open('/home/brysongray/tractography/neuron_trx/configs/config.json')\n",
    "args = json.load(f)\n",
    "\n",
    "img_file = args[\"image\"]\n",
    "label_file = args[\"label\"]\n",
    "seeds = args[\"seeds\"]\n",
    "model = args[\"model\"] if \"model\" in args else None\n",
    "n_seeds = args[\"n_seeds\"] if \"n_seeds\" in args else 1\n",
    "step_size = args[\"step_size\"] if \"step_size\" in args else 1.0\n",
    "step_width = args[\"step_width\"] if \"step_width\" in args else 1.0\n",
    "batch_size = args[\"batchsize\"] if \"batchsize\" in args else 128\n",
    "gamma = args[\"gamma\"] if \"gamma\" in args else 0.99\n",
    "eps_start = args[\"eps_start\"] if \"eps_start\" in args else 0.9\n",
    "eps_end = args[\"eps_end\"] if \"eps_end\" in args else 0.01\n",
    "eps_decay = args[\"eps_decay\"] if \"eps_decay\" in args else 1000\n",
    "tau = args[\"tau\"] if \"tau\" in args else 0.001\n",
    "lr = args[\"lr\"] if \"lr\" in args else 5e-4\n",
    "alpha = args[\"alpha\"] if \"alpha\" in args else 1.0\n",
    "beta = args[\"beta\"] if \"beta\" in args else 1e-3\n",
    "friction = args[\"friction\"] if \"friction\" in args else 1e-4\n",
    "num_episodes = args[\"num_episodes\"] if \"num_episodes\" in args else 100\n",
    "pixelsize = args[\"pixelsize\"] if \"pixelsize\" in args else [1.0, 1.0, 1.0]\n",
    "patch_radius = 17\n",
    "actions = np.load('/home/brysongray/tractography/neuron_trx/action_space_6_dir.npy')\n",
    "\n",
    "img, density, mask = load_data(img_file, label_file, pixelsize=pixelsize, inverse=True)\n",
    "\n",
    "env = Environment(img,\n",
    "                patch_radius,\n",
    "                seeds,\n",
    "                mask,\n",
    "                density,\n",
    "                actions,\n",
    "                n_seeds=n_seeds,\n",
    "                step_size=step_size,\n",
    "                step_width=step_width,\n",
    "                max_len=10000,\n",
    "                alpha=alpha,\n",
    "                beta=beta,\n",
    "                friction=friction)\n",
    "\n",
    "dqn_model = DQNModel(in_channels=4,\n",
    "                    n_actions=len(actions),\n",
    "                    input_size=(2*patch_radius+1),\n",
    "                    lr=lr,\n",
    "                    step_size=torch.tensor(step_size))\n",
    "\n",
    "if model:\n",
    "    dqn_model.load_model(torch.load(model))"
   ]
  },
  {
   "cell_type": "code",
   "execution_count": null,
   "metadata": {},
   "outputs": [],
   "source": [
    "dqn_model.train(env,\n",
    "                episodes=num_episodes,\n",
    "                batch_size=batch_size,\n",
    "                gamma=gamma,\n",
    "                tau=tau,\n",
    "                eps_start=eps_start,\n",
    "                eps_end=eps_end,\n",
    "                eps_decay=eps_decay,\n",
    "                save_snapshots=True,\n",
    "                show=True,\n",
    "                output=\"/home/brysongray/tractography/outputs_test\",\n",
    "                name='test')"
   ]
  },
  {
   "cell_type": "markdown",
   "metadata": {},
   "source": [
    "## view mask and density"
   ]
  },
  {
   "cell_type": "code",
   "execution_count": null,
   "metadata": {},
   "outputs": [],
   "source": [
    "# z=19\n",
    "fig, ax = plt.subplots(1,3)\n",
    "ax[0].imshow(env.img.data[:3].permute(1,2,3,0).amax(dim=0), alpha=1.0)\n",
    "ax[1].imshow(env.true_density.data[0].amax(dim=0), alpha=1.0, cmap='hot')\n",
    "ax[2].imshow(env.mask.data[0].amax(dim=0))"
   ]
  },
  {
   "cell_type": "markdown",
   "metadata": {},
   "source": [
    "### Choose seed points for testing"
   ]
  },
  {
   "cell_type": "code",
   "execution_count": null,
   "metadata": {},
   "outputs": [],
   "source": [
    "test_seeds = [[20, 280, 588],\n",
    "              [24, 305, 250],\n",
    "              [25, 472, 372],\n",
    "              [27, 345, 462],\n",
    "              [14, 60, 379],\n",
    "              [19, 160, 542]]"
   ]
  },
  {
   "cell_type": "code",
   "execution_count": null,
   "metadata": {},
   "outputs": [],
   "source": [
    "plt.close('all')"
   ]
  },
  {
   "cell_type": "code",
   "execution_count": null,
   "metadata": {},
   "outputs": [],
   "source": [
    "z = 19\n",
    "fig, ax = plt.subplots(1,2)\n",
    "I = env.img.data[:3].permute(1,2,3,0)\n",
    "T = env.true_density.data[0,z]\n",
    "ax[0].imshow(T)\n",
    "ax[1].imshow(I[z])"
   ]
  },
  {
   "cell_type": "markdown",
   "metadata": {},
   "source": [
    "## Test crop  and draw_line_segment functions"
   ]
  },
  {
   "cell_type": "code",
   "execution_count": null,
   "metadata": {},
   "outputs": [],
   "source": [
    "env.img.data.shape"
   ]
  },
  {
   "cell_type": "code",
   "execution_count": null,
   "metadata": {},
   "outputs": [],
   "source": [
    "env.paths[0].shape"
   ]
  },
  {
   "cell_type": "code",
   "execution_count": null,
   "metadata": {},
   "outputs": [],
   "source": [
    "# c = env.paths[0][-1]\n",
    "c = torch.tensor([19, 0.0, 350.0])\n",
    "b = torch.tensor([0,0.0,0.0])\n",
    "print(c+b)\n",
    "r = 4\n",
    "I = env.img.crop(center=c+b, radius=r, interp=True)[0][:3]\n",
    "plt.figure()\n",
    "plt.imshow(I[:, r].permute(1,2,0))\n"
   ]
  },
  {
   "cell_type": "code",
   "execution_count": null,
   "metadata": {},
   "outputs": [],
   "source": [
    "theta = -np.pi/4\n",
    "v = torch.tensor([0.,-np.sin(theta),np.cos(theta)]) * 4.0\n",
    "segment = torch.stack(((c), (c+v)))\n",
    "print(segment)\n",
    "# env.img.draw_line_segment(segment, width=0.0)\n",
    "path = env.img.crop((c), r, interp=True)[0][-1,r]\n",
    "plt.figure()\n",
    "plt.imshow(path)"
   ]
  },
  {
   "cell_type": "markdown",
   "metadata": {},
   "source": [
    "## Test Reward Function"
   ]
  },
  {
   "cell_type": "code",
   "execution_count": null,
   "metadata": {},
   "outputs": [],
   "source": [
    "DEVICE = 'cuda:0'"
   ]
  },
  {
   "cell_type": "code",
   "execution_count": null,
   "metadata": {},
   "outputs": [],
   "source": [
    "env.reset()"
   ]
  },
  {
   "cell_type": "code",
   "execution_count": null,
   "metadata": {},
   "outputs": [],
   "source": [
    "plt.close('all')"
   ]
  },
  {
   "cell_type": "code",
   "execution_count": null,
   "metadata": {},
   "outputs": [],
   "source": [
    "print(env.paths[env.head_id][-1])\n",
    "# z = int(np.round(env.paths[env.head_id][-1,0]))\n",
    "show_state(env)#, z=z)"
   ]
  },
  {
   "cell_type": "code",
   "execution_count": null,
   "metadata": {},
   "outputs": [],
   "source": [
    "plt.close('all')"
   ]
  },
  {
   "cell_type": "code",
   "execution_count": null,
   "metadata": {},
   "outputs": [],
   "source": [
    "env.paths[0]"
   ]
  },
  {
   "cell_type": "code",
   "execution_count": null,
   "metadata": {},
   "outputs": [],
   "source": [
    "bending_energy = []\n",
    "bending_energy_ = []\n",
    "segments_ = []\n",
    "energy_ = []\n",
    "for i in range(len(env.paths)):\n",
    "    p0 = env.paths[i][:-1]\n",
    "    p1 = env.paths[i][1:]\n",
    "    segments = (p1 - p0) / env.step_size\n",
    "    segments_.append(segments)\n",
    "    energy = (torch.einsum('ij,ij->i', segments[1:], segments[:-1]) - 1.0) / -2.0\n",
    "    energy_.append(energy)\n",
    "    bending_energy_.append(torch.sum(energy))\n",
    "bending_energy.append(torch.sum(torch.tensor(bending_energy_)))"
   ]
  },
  {
   "cell_type": "code",
   "execution_count": null,
   "metadata": {},
   "outputs": [],
   "source": [
    "print(segments_)"
   ]
  },
  {
   "cell_type": "code",
   "execution_count": null,
   "metadata": {},
   "outputs": [],
   "source": [
    "print(energy_)"
   ]
  },
  {
   "cell_type": "code",
   "execution_count": null,
   "metadata": {},
   "outputs": [],
   "source": [
    "plt.close('all')\n",
    "\n",
    "dir_dict = {'a':torch.tensor([0., 0.0, -1.0]),\n",
    "            'd':torch.tensor([0., 0.0, 1.0]),\n",
    "            'w':torch.tensor([0., -1.0, 0.0]),\n",
    "            's':torch.tensor([0., 1.0, 0.0]),\n",
    "            }\n",
    "plt.ioff()\n",
    "while True:\n",
    "    dir = input()\n",
    "    if dir == 'q':\n",
    "        break\n",
    "    clear_output(True)\n",
    "    observation, reward, terminated = env.step(dir_dict[dir], verbose=True)\n",
    "    print(reward)\n",
    "    if not terminated:\n",
    "        z = int(np.round(env.paths[env.head_id][-1,0]))\n",
    "        show_state(env, z)\n",
    "    else:\n",
    "        env.reset()"
   ]
  },
  {
   "cell_type": "code",
   "execution_count": null,
   "metadata": {},
   "outputs": [],
   "source": [
    "# get the index of action_space closest to a desired step direction\n",
    "action_id = get_closest_dir(env.action_space, torch.Tensor([0., 0., -1.]))\n",
    "print(action_id)\n",
    "print(env.action_space[action_id])"
   ]
  },
  {
   "cell_type": "code",
   "execution_count": null,
   "metadata": {},
   "outputs": [],
   "source": [
    "output='./outputs'\n",
    "episodes = 128\n"
   ]
  },
  {
   "cell_type": "code",
   "execution_count": null,
   "metadata": {},
   "outputs": [],
   "source": [
    "# Train the Network\n",
    "steps_done = 0\n",
    "episode_durations = []\n",
    "episode_returns = []\n",
    "if not os.path.exists(output):\n",
    "    os.makedirs(output)\n",
    "# for i in tqdm(range(episodes)):\n",
    "while len(dqn_model.memory) < batch_size:\n",
    "    env.reset()\n",
    "    state = env.get_state()[0].clone().to(dtype=torch.float32, device=DEVICE)\n",
    "    ep_return = 0\n",
    "    for t in count():\n",
    "        action_id = dqn_model.select_action(env.action_space, state, steps_done, eps_start, eps_end, eps_decay)\n",
    "        # observation, reward, terminated = env.step(env.action_space[action_id])\n",
    "        action = env.action_space[action_id]\n",
    "\n",
    "        # step\n",
    "        terminated = False\n",
    "\n",
    "        # add new position to path\n",
    "        while True:\n",
    "            new_position = env.paths[env.head_id][-1] + env.step_size*action\n",
    "            out_of_bound = any([x >= y or x < 0 for x,y in zip(torch.round(new_position), env.img.data.shape[1:])])\n",
    "            if out_of_bound:\n",
    "                action = env.action_space[int(np.random.randint(len(env.action_space)))]\n",
    "            else:\n",
    "                break\n",
    "\n",
    "        env.paths[env.head_id] = torch.cat((env.paths[env.head_id], new_position[None]))\n",
    "        # decide if path terminates\n",
    "        # out_of_mask = env.mask[tuple([int(x) for x in env.paths[env.head_id][-1]])]\n",
    "        too_long = len(env.paths[env.head_id]) > env.max_len\n",
    "        self_terminate = not any(action)\n",
    "        terminate_path = too_long or self_terminate\n",
    "\n",
    "        if terminate_path:\n",
    "            observation = None\n",
    "            reward = torch.tensor([0.], device=DEVICE)\n",
    "            # remove the path from 'paths' and add it to 'ended_paths'\n",
    "            env.ended_paths.append(env.paths.pop(env.head_id))\n",
    "            # if that was the last path in the list, then terminate the episode\n",
    "            if len(env.paths) == 0:\n",
    "                terminated = True\n",
    "            else:\n",
    "                env.head_id = (env.head_id + 1)%len(env.paths)\n",
    "        else:\n",
    "            center = env.paths[env.head_id][-2]\n",
    "            r = env.radius + int(np.ceil(env.step_size.max()))\n",
    "            true_density_patch, _ = env.true_density.crop(center, radius=r) # patch centered at previous step position\n",
    "            old_density_patch, _ = env.img.crop(center, radius=r)\n",
    "            old_density_patch = old_density_patch.detach().clone()[-1][None] # need to make a copy or else this will be modified by adding a point to img\n",
    "            # add_bundle_point(env.img, env.paths[env.head_id][-1], env.ball)\n",
    "            segment = env.paths[env.head_id][-2:, :3]\n",
    "            env.img.draw_line_segment(segment, width=1.0)\n",
    "            new_density_patch, _ = env.img.crop(center, radius=r)\n",
    "            new_density_patch = new_density_patch[-1][None]\n",
    "            delta_density_diff = density_error_change(true_density_patch, old_density_patch, new_density_patch)\n",
    "            observation = env.get_state()\n",
    "            reward = env.get_reward(terminated, delta_density_diff)\n",
    "\n",
    "            env.head_id = (env.head_id + 1)%len(env.paths)\n",
    "        # end step\n",
    "            \n",
    "        ep_return += reward\n",
    "\n",
    "        if terminated: # episode terminated\n",
    "            next_state = None\n",
    "        else:\n",
    "            next_state = observation # if the streamline terminated observation is None\n",
    "            if next_state is not None:\n",
    "                next_state = next_state[0].clone().to(dtype=torch.float32, device=DEVICE)\n",
    "\n",
    "        # Store the transition in memory\n",
    "        dqn_model.memory.push(state, action_id, next_state, reward)\n",
    "\n",
    "        # Perform one step of the optimization (on the policy network)\n",
    "        dqn_model.optimize_model(batch_size, gamma)\n",
    "\n",
    "        # Soft update of the target network's weights\n",
    "        # θ′ ← τ θ + (1 −τ )θ′\n",
    "        target_net_state_dict = dqn_model.target_net.state_dict()\n",
    "        policy_net_state_dict = dqn_model.policy_net.state_dict()\n",
    "        for key in policy_net_state_dict:\n",
    "            target_net_state_dict[key] = policy_net_state_dict[key]*tau + target_net_state_dict[key]*(1-tau)\n",
    "        dqn_model.target_net.load_state_dict(target_net_state_dict)\n",
    "\n",
    "        if terminated:\n",
    "            episode_durations.append(t + 1)\n",
    "            episode_returns.append(ep_return)\n",
    "            # if show:\n",
    "            #     plot_durations(episode_durations)\n",
    "            #     plot_returns(episode_returns)\n",
    "            # if save_snapshots:\n",
    "            #     if i%10 == 0:\n",
    "            #         torch.save(env.img.data[-1].detach().clone(), os.path.join(output, f'bundle_density_ep{i}.pt'))\n",
    "            #         torch.save(target_net_state_dict, os.path.join(output, f'model_state_dict_{name}.pt'))\n",
    "            #         torch.save(episode_durations, os.path.join(output, 'episode_durations_{name}.pt'))\n",
    "            #         torch.save(episode_returns, os.path.join(output, 'episode_returns_{name}.pt'))\n",
    "            break\n",
    "        # if not terminated, move to the next state\n",
    "        state = env.get_state()[0].to(dtype=torch.float32, device=DEVICE) # the head of the next streamline"
   ]
  },
  {
   "cell_type": "code",
   "execution_count": null,
   "metadata": {},
   "outputs": [],
   "source": [
    "show_state(env)"
   ]
  },
  {
   "cell_type": "code",
   "execution_count": null,
   "metadata": {},
   "outputs": [],
   "source": [
    "dqn_model.policy_net.state_dict()['conv1.bias'].ne(dqn_model.target_net.state_dict()['conv1.bias']).sum()"
   ]
  },
  {
   "cell_type": "code",
   "execution_count": null,
   "metadata": {},
   "outputs": [],
   "source": [
    "# Perform one step of the optimization (on the policy network)\n",
    "dqn_model_params = dqn_model.policy_net.parameters().detach().clone()\n",
    "print(dqn_model.policy_net.state_dict()['conv1.bias'])\n",
    "dqn_model.optimize_model(batch_size, gamma)\n",
    "print(dqn_model.policy_net.state_dict()['conv1.bias'])\n",
    "dqn_model_params_after = dqn_model.policy_net.parameters()\n",
    "\n",
    "for p1, p2 in zip(dqn_model_params, dqn_model_params_after):\n",
    "    if p1.data.ne(p2.data).sum() > 0:\n",
    "        print(\"Not equal\")\n",
    "    else:\n",
    "        print('Equal')"
   ]
  },
  {
   "cell_type": "code",
   "execution_count": null,
   "metadata": {},
   "outputs": [],
   "source": [
    "dqn_model.policy_net.state_dict()['conv1.bias']"
   ]
  },
  {
   "cell_type": "code",
   "execution_count": null,
   "metadata": {},
   "outputs": [],
   "source": [
    "dqn_model_params_after['conv1.bias']"
   ]
  },
  {
   "cell_type": "code",
   "execution_count": null,
   "metadata": {},
   "outputs": [],
   "source": [
    "# Soft update of the target network's weights\n",
    "# θ′ ← τ θ + (1 −τ )θ′\n",
    "target_net_state_dict = dqn_model.target_net.state_dict()\n",
    "policy_net_state_dict = dqn_model.policy_net.state_dict()\n",
    "for key in policy_net_state_dict:\n",
    "    target_net_state_dict[key] = policy_net_state_dict[key]*tau + target_net_state_dict[key]*(1-tau)\n",
    "dqn_model.target_net.load_state_dict(target_net_state_dict)"
   ]
  },
  {
   "cell_type": "code",
   "execution_count": null,
   "metadata": {},
   "outputs": [],
   "source": [
    "if terminated:\n",
    "    episode_durations.append(t + 1)\n",
    "    episode_returns.append(ep_return)\n",
    "    print('Terminated')"
   ]
  },
  {
   "cell_type": "code",
   "execution_count": null,
   "metadata": {},
   "outputs": [],
   "source": []
  },
  {
   "cell_type": "code",
   "execution_count": null,
   "metadata": {},
   "outputs": [],
   "source": [
    "config_path = \"/home/brysongray/tractography/neuron_trx/configs/config.json\"\n",
    "f = open(config_path)\n",
    "config = json.load(f)\n",
    "print(type(config))"
   ]
  },
  {
   "cell_type": "code",
   "execution_count": null,
   "metadata": {},
   "outputs": [],
   "source": [
    "train_dqn_tracker.main(config)"
   ]
  },
  {
   "cell_type": "markdown",
   "metadata": {},
   "source": [
    "# View results"
   ]
  },
  {
   "cell_type": "code",
   "execution_count": null,
   "metadata": {},
   "outputs": [],
   "source": [
    "name = \"alpha-4.0_b-1.0_f-0.0_n-1\"\n",
    "output = \"/home/brysongray/tractography/outputs/\"\n",
    "returns = torch.load(os.path.join(output, f\"episode_returns_{name}.pt\"))\n",
    "durations = torch.load(os.path.join(output, f\"episode_durations_{name}.pt\"))\n",
    "loss = torch.load(os.path.join(output, f\"loss_{name}.pt\"))\n",
    "eps = torch.load(os.path.join(output, f\"eps_{name}.pt\"))\n",
    "lr = torch.load(os.path.join(output, f\"lr_{name}.pt\"))"
   ]
  },
  {
   "cell_type": "code",
   "execution_count": null,
   "metadata": {},
   "outputs": [],
   "source": [
    "dqn_tracker.plot_returns(returns, show_result=False)\n",
    "dqn_tracker.plot_durations(durations, show_result=False)"
   ]
  },
  {
   "cell_type": "code",
   "execution_count": null,
   "metadata": {},
   "outputs": [],
   "source": [
    "fig, ax = plt.subplots(1,3)\n",
    "ax[0].plot(eps)\n",
    "ax[0].set_title(\"epsilon\")\n",
    "ax[1].plot(lr, label=\"lr\")\n",
    "ax[1].set_title(\"learning rate\")\n",
    "ax[2].plot(loss, label=\"loss\")\n",
    "ax[2].set_title(\"loss\")"
   ]
  },
  {
   "cell_type": "code",
   "execution_count": null,
   "metadata": {},
   "outputs": [],
   "source": [
    "fname = '/home/brysongray/tractography/outputs/bundle_density_ep1.pt'\n",
    "density = torch.load(fname)\n",
    "print(density.shape)"
   ]
  },
  {
   "cell_type": "code",
   "execution_count": null,
   "metadata": {},
   "outputs": [],
   "source": [
    "plt.close('all')\n",
    "fig, ax = plt.subplots(2,3)\n",
    "for r in range(2):\n",
    "    for c in range(3):\n",
    "        i = (r+1)*(c+1)\n",
    "        if i == 7:\n",
    "            break\n",
    "        fname = f'/home/brysongray/tractography/outputs/bundle_density_ep{i-1}.pt'\n",
    "        density = torch.load(fname)\n",
    "        D = density.amax(dim=0)\n",
    "        I = env.img.data[:3].amax(dim=(1))\n",
    "        T = env.true_density.data.amax(dim=(0,1))\n",
    "        ax[r][c].imshow(D, cmap='hot', alpha=0.5)\n",
    "        # ax[r][c].imshow(I.permute(1,2,0), alpha=0.5)\n",
    "        # ax[r][c].imshow(B, cmap='gray', alpha=0.5)\n",
    "        ax[r][c].imshow(T, cmap='gray', alpha=0.5)\n",
    "\n",
    "# plt.imshow(T, cmap='gray', alpha=0.5)\n"
   ]
  },
  {
   "cell_type": "markdown",
   "metadata": {},
   "source": [
    "# Inference"
   ]
  },
  {
   "cell_type": "code",
   "execution_count": null,
   "metadata": {},
   "outputs": [],
   "source": [
    "f = open('/home/brysongray/tractography/neuron_trx/configs/config.json')\n",
    "args = json.load(f)\n",
    "\n",
    "img_file = args[\"image\"]\n",
    "label_file = args[\"label\"]\n",
    "seeds = args[\"seeds\"]\n",
    "model = args[\"model\"] if \"model\" in args else None\n",
    "n_seeds = args[\"n_seeds\"] if \"n_seeds\" in args else 1\n",
    "step_size = args[\"step_size\"] if \"step_size\" in args else 1.0\n",
    "step_width = args[\"step_width\"] if \"step_width\" in args else 1.0\n",
    "batch_size = args[\"batchsize\"] if \"batchsize\" in args else 128\n",
    "gamma = args[\"gamma\"] if \"gamma\" in args else 0.99\n",
    "eps_start = args[\"eps_start\"] if \"eps_start\" in args else 0.9\n",
    "eps_end = args[\"eps_end\"] if \"eps_end\" in args else 0.01\n",
    "eps_decay = args[\"eps_decay\"] if \"eps_decay\" in args else 1000\n",
    "tau = args[\"tau\"] if \"tau\" in args else 0.001\n",
    "lr = args[\"lr\"] if \"lr\" in args else 5e-4\n",
    "alpha = args[\"alpha\"] if \"alpha\" in args else 1.0\n",
    "beta = args[\"beta\"] if \"beta\" in args else 1e-3\n",
    "friction = args[\"friction\"] if \"friction\" in args else 1e-4\n",
    "num_episodes = args[\"num_episodes\"] if \"num_episodes\" in args else 100\n",
    "pixelsize = args[\"pixelsize\"] if \"pixelsize\" in args else [1.0, 1.0, 1.0]\n",
    "patch_radius = 17\n",
    "actions = np.load('/home/brysongray/tractography/neuron_trx/action_space_6_dir.npy')\n",
    "\n",
    "img, density, mask = load_data(img_file, label_file, pixelsize=pixelsize, inverse=True)\n",
    "\n",
    "env = Environment(img,\n",
    "                    patch_radius,\n",
    "                    seeds,\n",
    "                    mask,\n",
    "                    density,\n",
    "                    actions,\n",
    "                    n_seeds=n_seeds,\n",
    "                    step_size=step_size,\n",
    "                    step_width=step_width,\n",
    "                    max_len=10000,\n",
    "                    alpha=alpha,\n",
    "                    beta=beta,\n",
    "                    friction=friction)\n",
    "\n",
    "model = DQNModel(4, n_actions=len(actions), input_size=(2*patch_radius+1))\n",
    "params = torch.load(\"/home/brysongray/tractography/outputs/model_state_dict_alpha-1.0_b-0.0_f-0.0_n-1.pt\")\n",
    "\n",
    "model.load_model(params)\n"
   ]
  },
  {
   "cell_type": "code",
   "execution_count": null,
   "metadata": {},
   "outputs": [],
   "source": [
    "env.reset()"
   ]
  },
  {
   "cell_type": "code",
   "execution_count": null,
   "metadata": {},
   "outputs": [],
   "source": [
    "# seeds = [[25,382,380]]\n",
    "# env.seeds = test_seeds\n",
    "env = model.inference(env)"
   ]
  },
  {
   "cell_type": "code",
   "execution_count": null,
   "metadata": {},
   "outputs": [],
   "source": [
    "I = np.array(env.img.data.to('cpu'))\n",
    "T = np.array(env.true_density.data.to('cpu'))\n",
    "B = np.array(env.bundle_density.data.to('cpu'))\n",
    "I = I.max(axis=1)\n",
    "T = T[0].max(axis=0)\n",
    "B = B[0].max(axis=0)\n",
    "fig, ax = plt.subplots(1,2)\n",
    "ax[0].imshow(I[-1], cmap='hot', alpha=0.5) #, int(paths[env.head_id][-1, 0])])\n",
    "ax[0].imshow(I[:3].transpose(1,2,0), alpha=0.5)\n",
    "ax[1].imshow(B, cmap='hot', alpha=0.5)\n",
    "ax[1].imshow(T, cmap='gray', alpha=0.5)\n",
    "\n",
    "plt.show()"
   ]
  },
  {
   "cell_type": "markdown",
   "metadata": {},
   "source": [
    "## Compare models"
   ]
  },
  {
   "cell_type": "code",
   "execution_count": null,
   "metadata": {},
   "outputs": [],
   "source": [
    "dir = \"/home/brysongray/tractography/outputs\"\n",
    "outputs = os.listdir(dir)\n",
    "\n",
    "returns_files = [o for o in outputs if \"returns\" in o]\n",
    "durations_files = [o for o in outputs if \"durations\" in o]\n",
    "mae_files = [o for o in outputs if \"matching\" in o]\n",
    "friction_files = [o for o in outputs if \"friction\" in o]\n",
    "bending_energy_files = [o for o in outputs if \"bending_energy\" in o]\n",
    "bending_energy_files.sort()\n",
    "friction_files.sort()\n",
    "mae_files.sort()\n",
    "returns_files.sort()\n",
    "durations_files.sort()\n",
    "\n",
    "returns = []\n",
    "durations = []\n",
    "maes = []\n",
    "frictions = []\n",
    "bending_energies = []\n",
    "for i in range(len(returns_files)):\n",
    "    returns.append(torch.tensor(torch.load(os.path.join(dir,returns_files[i]))))\n",
    "    durations.append(torch.tensor(torch.load(os.path.join(dir,durations_files[i]))))\n",
    "    maes.append(torch.tensor(torch.load(os.path.join(dir, mae_files[i]))))\n",
    "    frictions.append(torch.tensor(torch.load(os.path.join(dir, friction_files[i]))))\n",
    "    bending_energies.append(torch.tensor(torch.load(os.path.join(dir, bending_energy_files[i]))))\n",
    "\n"
   ]
  },
  {
   "cell_type": "code",
   "execution_count": null,
   "metadata": {},
   "outputs": [],
   "source": [
    "Z = np.zeros(len(maes))\n",
    "for i,m in enumerate(maes):\n",
    "    Z[i]= m.min().item()\n",
    "\n"
   ]
  },
  {
   "cell_type": "code",
   "execution_count": null,
   "metadata": {},
   "outputs": [],
   "source": [
    "print(np.argmin(Z))\n",
    "print(returns_files[np.argmin(Z)])\n",
    "print(min(Z))"
   ]
  },
  {
   "cell_type": "code",
   "execution_count": null,
   "metadata": {},
   "outputs": [],
   "source": [
    "i = np.argmin(Z)\n",
    "ep_returns = returns[i]\n",
    "ep_durations = durations[i]\n",
    "mae = maes[i]\n",
    "friction = frictions[i]\n",
    "bending_energy = bending_energies[i]"
   ]
  },
  {
   "cell_type": "code",
   "execution_count": null,
   "metadata": {},
   "outputs": [],
   "source": [
    "fig, ax = plt.subplots(1,2)\n",
    "ax[0].plot(ep_returns.numpy())\n",
    "ax[1].plot(ep_durations.numpy())"
   ]
  },
  {
   "cell_type": "code",
   "execution_count": null,
   "metadata": {},
   "outputs": [],
   "source": [
    "friction.shape"
   ]
  },
  {
   "cell_type": "code",
   "execution_count": null,
   "metadata": {},
   "outputs": [],
   "source": [
    "fig, ax = plt.subplots(1,3)\n",
    "ax[0].plot(mae)\n",
    "ax[1].plot(bending_energy / friction)\n",
    "ax[2].plot(friction)"
   ]
  }
 ],
 "metadata": {
  "kernelspec": {
   "display_name": "tractography",
   "language": "python",
   "name": "python3"
  },
  "language_info": {
   "codemirror_mode": {
    "name": "ipython",
    "version": 3
   },
   "file_extension": ".py",
   "mimetype": "text/x-python",
   "name": "python",
   "nbconvert_exporter": "python",
   "pygments_lexer": "ipython3",
   "version": "3.11.5"
  },
  "orig_nbformat": 4
 },
 "nbformat": 4,
 "nbformat_minor": 2
}
