{
 "cells": [
  {
   "cell_type": "code",
   "execution_count": 2,
   "metadata": {},
   "outputs": [],
   "source": [
    "%load_ext autoreload\n",
    "%autoreload 2\n",
    "%matplotlib inline"
   ]
  },
  {
   "cell_type": "code",
   "execution_count": 3,
   "metadata": {},
   "outputs": [],
   "source": [
    "from datetime import datetime\n",
    "from glob import glob\n",
    "import matplotlib.pyplot as plt\n",
    "import numpy as np\n",
    "import os\n",
    "import pandas as pd\n",
    "import sys\n",
    "import torch\n",
    "\n",
    "sys.path.append(\"../\")\n",
    "from data_prep import collect, load\n",
    "from solvers import branch_classifier\n",
    "import models\n",
    "date = datetime.now().strftime(\"%m-%d-%y\")\n",
    "dtype = torch.float32\n",
    "DEVICE = \"cuda\" if torch.cuda.is_available() else \"cpu\""
   ]
  },
  {
   "cell_type": "markdown",
   "metadata": {},
   "source": [
    "# Collect branch classifier training data"
   ]
  },
  {
   "cell_type": "markdown",
   "metadata": {},
   "source": [
    "## Get sample points from swc files"
   ]
  },
  {
   "cell_type": "code",
   "execution_count": 7,
   "metadata": {},
   "outputs": [
    {
     "name": "stdout",
     "output_type": "stream",
     "text": [
      "loading file: /home/brysongray/data/neuromorpho/mehder/CNG version/Rasha-CA1-Exp-April-2016-right-slide-55-secion-1.CNG.swc\n",
      "loading file: /home/brysongray/data/neuromorpho/hart/CNG version/2016-10-27_541_mir-1_day_3_5.CNG.swc\n",
      "loading file: /home/brysongray/data/neuromorpho/hart/CNG version/2016-10-27_541_mir-1_day_3_3.CNG.swc\n",
      "loading file: /home/brysongray/data/neuromorpho/briggs/CNG version/Bub_9-13_c1.CNG.swc\n",
      "loading file: /home/brysongray/data/neuromorpho/quinlan/CNG version/KQa4-12-2015-tracing.CNG.swc\n",
      "loading file: /home/brysongray/data/neuromorpho/beining/CNG version/35dpi_ipsi_infra_06.CNG.swc\n",
      "loading file: /home/brysongray/data/neuromorpho/kuddannaya/CNG version/Tracetest_N360_semicircle_Map2Tau_79_semi-auto_18.CNG.swc\n",
      "loading file: /home/brysongray/data/neuromorpho/chiang/CNG version/Cha-F-000302.CNG.swc\n",
      "loading file: /home/brysongray/data/neuromorpho/chiang/CNG version/Cha-F-600090.CNG.swc\n",
      "loading file: /home/brysongray/data/neuromorpho/tolias/CNG version/L5MC-J130731a.CNG.swc\n",
      "loading file: /home/brysongray/data/neuromorpho/dierssen/CNG version/WT_6mo_3_11.CNG.swc\n",
      "loading file: /home/brysongray/data/neuromorpho/borst/CNG version/dHSN_02l.CNG.swc\n",
      "loading file: /home/brysongray/data/neuromorpho/steelman/CNG version/gw-4-image-3_22.CNG.swc\n",
      "loading file: /home/brysongray/data/neuromorpho/denizet/CNG version/cort4c4pg1d.CNG.swc\n",
      "loading file: /home/brysongray/data/neuromorpho/todd/CNG version/C242-01-08-14-B1.CNG.swc\n",
      "loading file: /home/brysongray/data/neuromorpho/gaspar/CNG version/8-STRESS_2w_Female_HIP_7.CNG.swc\n",
      "loading file: /home/brysongray/data/neuromorpho/gaspar/CNG version/1-CTR_2w_Female_Nac_6.CNG.swc\n",
      "loading file: /home/brysongray/data/neuromorpho/gaspar/CNG version/12-DEX-STRESS_male_Nac_7.CNG.swc\n",
      "loading file: /home/brysongray/data/neuromorpho/campos/CNG version/Astro-1.CNG.swc\n",
      "loading file: /home/brysongray/data/neuromorpho/roysam/CNG version/farsight879.CNG.swc\n",
      "loading file: /home/brysongray/data/neuromorpho/eyewire/CNG version/skel_20220_sorted.CNG.swc\n",
      "loading file: /home/brysongray/data/neuromorpho/luikart/CNG version/C29421-A4-60DPI-TDA-I1-CreCell-3.CNG.swc\n",
      "loading file: /home/brysongray/data/neuromorpho/defelipe/CNG version/M1KO_15.CNG.swc\n",
      "loading file: /home/brysongray/data/neuromorpho/guizzetti/CNG version/P3_CV3_79.CNG.swc\n",
      "loading file: /home/brysongray/data/neuromorpho/la barbera/CNG version/1-4_14.CNG.swc\n",
      "loading file: /home/brysongray/data/neuromorpho/diniz/CNG version/C13_1-6_80um_GFAP_Z-fixed0102_08-April16_C47.CNG.swc\n",
      "loading file: /home/brysongray/data/neuromorpho/laBarbera_mercuri/CNG Version/1-4_14.CNG.swc\n",
      "loading file: /home/brysongray/data/neuromorpho/prichard_singer/CNG version/MsJinx16_NoFlicker_1h_IBA1_NFkBinh_17.CNG.swc\n",
      "loading file: /home/brysongray/data/neuromorpho/castanho_oliveira/CNG version/13_L3_C3_N5.CNG.swc\n",
      "loading file: /home/brysongray/data/neuromorpho/flyem/CNG version/KC-p-5303804.CNG.swc\n",
      "loading file: /home/brysongray/data/neuromorpho/nishitoh/CNG version/D2_C_22.CNG.swc\n",
      "loading file: /home/brysongray/data/neuromorpho/hosseini/CNG version/Aged_mice_VAC-PBS10_58-DG-1.CNG.swc\n",
      "loading file: /home/brysongray/data/neuromorpho/jacobs/CNG version/194-2-6lw.CNG.swc\n",
      "loading file: /home/brysongray/data/neuromorpho/giniger/CNG version/ABL-OE-14--ims.CNG.swc\n",
      "loading file: /home/brysongray/data/neuromorpho/macdonald/CNG version/SD3.CNG.swc\n",
      "loading file: /home/brysongray/data/neuromorpho/jongbloets/CNG version/14dpi_WT2_S6_2.CNG.swc\n",
      "loading file: /home/brysongray/data/neuromorpho/baier/CNG version/150304_2_3_d.CNG.swc\n",
      "loading file: /home/brysongray/data/neuromorpho/baier/CNG version/20160916_BGUG_HuC_ltRFP_d7_F13.CNG.swc\n",
      "loading file: /home/brysongray/data/neuromorpho/tenner/CNG version/7month-Arctic-C5aR1-KO-11_2.CNG.swc\n",
      "loading file: /home/brysongray/data/neuromorpho/yayon_soreq/CNG version/Cell_134_MPD_12_FT_10_XYZ_Sorted-swc_N3DFix-swc_4.CNG.swc\n",
      "loading file: /home/brysongray/data/neuromorpho/yayon_soreq/CNG version/Cell_528_MPD_8_FT_10_XYZ_Sorted-swc_N3DFix-swc_1.CNG.swc\n",
      "loading file: /home/brysongray/data/neuromorpho/allen cell types/CNG version/646805498_transformed.CNG.swc\n",
      "loading file: /home/brysongray/data/neuromorpho/wong/CNG version/L100P-GSK3-Het-9.CNG.swc\n",
      "loading file: /home/brysongray/data/neuromorpho/siegert/CNG version/CN_Development_P22_F_Animal03_Trace009.CNG.swc\n",
      "loading file: /home/brysongray/data/neuromorpho/siegert/CNG version/CN_Development_P15_F_Animal01_Trace040.CNG.swc\n",
      "loading file: /home/brysongray/data/neuromorpho/siegert/CNG version/DG_5xFAD_3mpos_F_Animal02_Trace178.CNG.swc\n",
      "loading file: /home/brysongray/data/neuromorpho/siegert/CNG version/SN_Adulthood_Control_M_Animal08_Trace005.CNG.swc\n",
      "loading file: /home/brysongray/data/neuromorpho/siegert/CNG version/DG_CKp25_2w_M_Animal01_Trace048.CNG.swc\n",
      "loading file: /home/brysongray/data/neuromorpho/siegert/CNG version/CN_Development_P22_M_Animal03_Trace047.CNG.swc\n",
      "loading file: /home/brysongray/data/neuromorpho/siegert/CNG version/S1_5xFAD_6mpos_F_Animal03_Trace003.CNG.swc\n",
      "loading file: /home/brysongray/data/neuromorpho/siegert/CNG version/S1_CKp25_1w_M_Animal02_Trace067.CNG.swc\n",
      "loading file: /home/brysongray/data/neuromorpho/siegert/CNG version/S1_CKp25_6w_F_Animal02_Trace063.CNG.swc\n",
      "loading file: /home/brysongray/data/neuromorpho/siegert/CNG version/SN_5xFAD_6mpos_M_Animal03_Trace033.CNG.swc\n",
      "loading file: /home/brysongray/data/neuromorpho/siegert/CNG version/S1_CKp25_6w_M_Animal04_Trace008.CNG.swc\n",
      "loading file: /home/brysongray/data/neuromorpho/siegert/CNG version/S1_5xFAD_3mpos_M_Animal03_Trace037.CNG.swc\n",
      "loading file: /home/brysongray/data/neuromorpho/siegert/CNG version/FC_Development_P15_M_Animal02_Trace109.CNG.swc\n",
      "loading file: /home/brysongray/data/neuromorpho/siegert/CNG version/FC_Development_P22_F_Animal03_Trace164.CNG.swc\n",
      "loading file: /home/brysongray/data/neuromorpho/siegert/CNG version/FC_Adulthood_Control_M_Animal01_Trace036.CNG.swc\n",
      "loading file: /home/brysongray/data/neuromorpho/siegert/CNG version/DG_5xFAD_6mpos_M_Animal03_Trace080.CNG.swc\n",
      "loading file: /home/brysongray/data/neuromorpho/siegert/CNG version/DG_Development_P22_M_Animal03_Trace060.CNG.swc\n",
      "loading file: /home/brysongray/data/neuromorpho/siegert/CNG version/DG_Adulthood_Control_F_Animal01_Trace891.CNG.swc\n",
      "loading file: /home/brysongray/data/neuromorpho/siegert/CNG version/SN_Ovariectomy_Animal02_Trace052.CNG.swc\n",
      "loading file: /home/brysongray/data/neuromorpho/siegert/CNG version/S1_Ovariectomy_Animal01_Trace032.CNG.swc\n",
      "loading file: /home/brysongray/data/neuromorpho/siegert/CNG version/OB_Adulthood_Control_F_Animal04_Trace056.CNG.swc\n",
      "loading file: /home/brysongray/data/neuromorpho/siegert/Source-Version/OB_Adulthood_Control_F_Animal04_Trace056.swc\n",
      "loading file: /home/brysongray/data/neuromorpho/buskila/CNG version/MC-Aged-cont-S1.CNG.swc\n",
      "loading file: /home/brysongray/data/neuromorpho/buskila/CNG version/SSC-Aged-control-S8.CNG.swc\n",
      "loading file: /home/brysongray/data/neuromorpho/buskila/CNG version/MC-Presymptomatic-SOD1-S3.CNG.swc\n",
      "loading file: /home/brysongray/data/neuromorpho/buskila/CNG version/MC-Aged-Cont-S2.CNG.swc\n",
      "loading file: /home/brysongray/data/neuromorpho/buskila/CNG version/SSC-Aged-control-S13.CNG.swc\n",
      "loading file: /home/brysongray/data/neuromorpho/charlet/CNG version/CeA_Astrocyte_12_003.CNG.swc\n",
      "loading file: /home/brysongray/data/neuromorpho/charlet/CNG version/CeA_Astrocyte_3_021.CNG.swc\n",
      "loading file: /home/brysongray/data/neuromorpho/denk/CNG version/orphan_3807.CNG.swc\n",
      "loading file: /home/brysongray/data/neuromorpho/hamad/CNG version/pcs74_8.CNG.swc\n",
      "loading file: /home/brysongray/data/neuromorpho/jefferis/CNG version/NNE1L.CNG.swc\n"
     ]
    }
   ],
   "source": [
    "# get sample points from swc files\n",
    "labels_dir = \"/home/brysongray/data/neuromorpho\"\n",
    "samples_per_file = 1\n",
    "files = [f for x in os.walk(labels_dir) for f in glob(os.path.join(x[0], '*.swc'))]\n",
    "swc_lists = []\n",
    "for f in files:\n",
    "    swc_lists.append(load.swc(f))\n",
    "fnames = [f.split('/')[-1].split('.')[0] for f in files]\n",
    "sample_points = collect.swc_random_points(samples_per_file, swc_lists, fnames, adjust=True)"
   ]
  },
  {
   "cell_type": "markdown",
   "metadata": {},
   "source": [
    "## Save sample patches and labels from image files"
   ]
  },
  {
   "cell_type": "code",
   "execution_count": 8,
   "metadata": {},
   "outputs": [],
   "source": [
    "# save sample patches from the images centered at the sample points\n",
    "image_dir = \"/home/brysongray/tractography/data_prep/training_data/neuromorpho_with_artifacts\"\n",
    "out_dir = \"classifier_data\"\n",
    "if not os.path.exists(out_dir):\n",
    "    os.makedirs(out_dir, exist_ok=True)\n",
    "name = \"neuromorpho_test\"\n",
    "\n",
    "collect.collect_data(sample_points, image_dir, out_dir, name, date)"
   ]
  },
  {
   "cell_type": "markdown",
   "metadata": {},
   "source": [
    "## View some example input images"
   ]
  },
  {
   "cell_type": "code",
   "execution_count": 10,
   "metadata": {},
   "outputs": [
    {
     "data": {
      "image/png": "[encoded data removed]",
      "text/plain": [
       "<Figure size 640x480 with 9 Axes>"
      ]
     },
     "metadata": {},
     "output_type": "display_data"
    }
   ],
   "source": [
    "observations = os.listdir(os.path.join(out_dir, \"observations\"))\n",
    "training_annotations = pd.read_csv(glob(os.path.join(out_dir, \"*_labels.csv\"))[0])\n",
    "ids = np.random.choice(len(training_annotations), size=9)\n",
    "sample = training_annotations.iloc[ids]\n",
    "\n",
    "fig, ax = plt.subplots(3,3, )\n",
    "ax = ax.flatten()\n",
    "for i in range(len(ax)):\n",
    "    img = torch.load(os.path.join(out_dir,\"observations\", sample.iloc[i,0]), weights_only=True) # type: ignore\n",
    "    ax[i].imshow(img[0].amax(0))\n",
    "    ax[i].set_title(f\"label: {sample.iloc[i,1].item()}\")\n",
    "    ax[i].set_axis_off()\n",
    "\n",
    "    "
   ]
  },
  {
   "cell_type": "markdown",
   "metadata": {},
   "source": [
    "## Instantiate dataloader for training and test datasets\n",
    "### Dataloaders use a weighted random sampler to balance classes.\n",
    "### Additionally, the training dataset adds a random permutation and flip to the image patch at retrieval."
   ]
  },
  {
   "cell_type": "code",
   "execution_count": 11,
   "metadata": {},
   "outputs": [
    {
     "ename": "TypeError",
     "evalue": "StateData.__init__() got an unexpected keyword argument 'annotations_file'",
     "output_type": "error",
     "traceback": [
      "\u001b[0;31m---------------------------------------------------------------------------\u001b[0m",
      "\u001b[0;31mTypeError\u001b[0m                                 Traceback (most recent call last)",
      "Cell \u001b[0;32mIn[11], line 8\u001b[0m\n\u001b[1;32m      6\u001b[0m \u001b[38;5;66;03m# instantiate training and test datasets\u001b[39;00m\n\u001b[1;32m      7\u001b[0m transform \u001b[38;5;241m=\u001b[39m branch_classifier\u001b[38;5;241m.\u001b[39mtransform \u001b[38;5;66;03m# random permutation and flip\u001b[39;00m\n\u001b[0;32m----> 8\u001b[0m training_data \u001b[38;5;241m=\u001b[39m \u001b[43mbranch_classifier\u001b[49m\u001b[38;5;241;43m.\u001b[39;49m\u001b[43mStateData\u001b[49m\u001b[43m(\u001b[49m\u001b[43mannotations_file\u001b[49m\u001b[38;5;241;43m=\u001b[39;49m\u001b[43mtraining_annotations_file\u001b[49m\u001b[43m,\u001b[49m\n\u001b[1;32m      9\u001b[0m \u001b[43m                          \u001b[49m\u001b[43mimg_dir\u001b[49m\u001b[38;5;241;43m=\u001b[39;49m\u001b[43mimg_dir\u001b[49m\u001b[43m,\u001b[49m\n\u001b[1;32m     10\u001b[0m \u001b[43m                          \u001b[49m\u001b[43mtransform\u001b[49m\u001b[38;5;241;43m=\u001b[39;49m\u001b[43mtransform\u001b[49m\u001b[43m)\u001b[49m\n\u001b[1;32m     11\u001b[0m test_data \u001b[38;5;241m=\u001b[39m branch_classifier\u001b[38;5;241m.\u001b[39mStateData(annotations_file\u001b[38;5;241m=\u001b[39mtest_annotations_file,\n\u001b[1;32m     12\u001b[0m                           img_dir\u001b[38;5;241m=\u001b[39mimg_dir)\n\u001b[1;32m     14\u001b[0m \u001b[38;5;66;03m# instantiate dataloaders\u001b[39;00m\n",
      "\u001b[0;31mTypeError\u001b[0m: StateData.__init__() got an unexpected keyword argument 'annotations_file'"
     ]
    }
   ],
   "source": [
    "# set source data files paths\n",
    "training_annotations_file = \"classifier_data/branch_classifier_neuromorpho_test_02-04-25_test_annotations.csv\"\n",
    "test_annotations_file = \"classifier_data/branch_classifier_neuromorpho_test_02-04-25_training_annotations.csv\"\n",
    "img_dir = \"classifier_data/observations\"\n",
    "\n",
    "# instantiate training and test datasets\n",
    "transform = branch_classifier.transform # random permutation and flip\n",
    "training_data = branch_classifier.StateData(annotations_file=training_annotations_file,\n",
    "                          img_dir=img_dir,\n",
    "                          transform=transform)\n",
    "test_data = branch_classifier.StateData(annotations_file=test_annotations_file,\n",
    "                          img_dir=img_dir)\n",
    "\n",
    "# instantiate dataloaders\n",
    "training_dataloader = branch_classifier.init_dataloader(training_data)\n",
    "test_dataloader = branch_classifier.init_dataloader(test_data)"
   ]
  },
  {
   "cell_type": "markdown",
   "metadata": {},
   "source": [
    "## View balanced data"
   ]
  },
  {
   "cell_type": "code",
   "execution_count": 16,
   "metadata": {},
   "outputs": [
    {
     "data": {
      "image/png": "[encoded data removed]",
      "text/plain": [
       "<Figure size 640x480 with 9 Axes>"
      ]
     },
     "metadata": {},
     "output_type": "display_data"
    }
   ],
   "source": [
    "fig, axs = plt.subplots(3,3)\n",
    "axs = axs.flatten()\n",
    "\n",
    "X,y = next(iter(training_dataloader))\n",
    "for i, ax in enumerate(axs):\n",
    "    ax.imshow(X[i,0].amax(0))\n",
    "    ax.set_title(f\"Label: {y[i]}\")\n",
    "    ax.set_axis_off()"
   ]
  },
  {
   "cell_type": "code",
   "execution_count": 10,
   "metadata": {},
   "outputs": [
    {
     "data": {
      "text/plain": [
       "['branch_classifier_neuromorpho_test_02-04-25_test_annotations.csv',\n",
       " 'branch_classifier_neuromorpho_test_02-04-25_annotations.csv',\n",
       " 'observations',\n",
       " 'branch_classifier_neuromorpho_test_02-04-25_training_annotations.csv']"
      ]
     },
     "execution_count": 10,
     "metadata": {},
     "output_type": "execute_result"
    }
   ],
   "source": [
    "os.listdir('classifier_data')"
   ]
  },
  {
   "cell_type": "code",
   "execution_count": 7,
   "metadata": {},
   "outputs": [
    {
     "name": "stdout",
     "output_type": "stream",
     "text": [
      "Epoch 1\n",
      "-------------------------------\n",
      "Accuracy: 43.75, Loss: 0.376344  [   64/   67]\n",
      "Test Error: \n",
      " Accuracy: 49.6%, Avg loss: 3.112986 \n",
      "           Precision: 0.496, Recall: 1.000\n",
      "Done!\n"
     ]
    }
   ],
   "source": [
    "out_dir = \"classifier_weights/\"\n",
    "if not os.path.exists(out_dir):\n",
    "    os.makedirs(out_dir, exist_ok=True)\n",
    "\n",
    "lr = 1e-3\n",
    "epochs = 1\n",
    "classifier = models.ResNet(models.ResidualBlock, [3, 4, 6, 3], num_classes=1)\n",
    "classifier = classifier.to(device=DEVICE, dtype=dtype)\n",
    "\n",
    "branch_classifier.train(training_dataloader, test_dataloader, out_dir, lr, epochs, classifier, state_dict=None)\n"
   ]
  }
 ],
 "metadata": {
  "kernelspec": {
   "display_name": "tractography",
   "language": "python",
   "name": "python3"
  },
  "language_info": {
   "codemirror_mode": {
    "name": "ipython",
    "version": 3
   },
   "file_extension": ".py",
   "mimetype": "text/x-python",
   "name": "python",
   "nbconvert_exporter": "python",
   "pygments_lexer": "ipython3",
   "version": "3.12.2"
  }
 },
 "nbformat": 4,
 "nbformat_minor": 2
}
