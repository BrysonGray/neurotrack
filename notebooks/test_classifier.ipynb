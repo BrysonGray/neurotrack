{
 "cells": [
  {
   "cell_type": "code",
   "execution_count": 1,
   "metadata": {},
   "outputs": [],
   "source": [
    "%load_ext autoreload\n",
    "%autoreload 2\n",
    "%matplotlib inline"
   ]
  },
  {
   "cell_type": "code",
   "execution_count": 2,
   "metadata": {},
   "outputs": [
    {
     "name": "stderr",
     "output_type": "stream",
     "text": [
      "/home/bgray/anaconda3/envs/neurotrack/lib/python3.8/site-packages/tqdm/auto.py:21: TqdmWarning: IProgress not found. Please update jupyter and ipywidgets. See https://ipywidgets.readthedocs.io/en/stable/user_install.html\n",
      "  from .autonotebook import tqdm as notebook_tqdm\n"
     ]
    }
   ],
   "source": [
    "import cProfile\n",
    "from datetime import datetime\n",
    "from glob import glob\n",
    "import matplotlib.pyplot as plt\n",
    "import numpy as np\n",
    "import os\n",
    "import pandas as pd\n",
    "import pstats\n",
    "import sys\n",
    "import tifffile as tf\n",
    "import torch\n",
    "from torch.utils.data import DataLoader\n",
    "from tqdm import tqdm\n",
    "\n",
    "sys.path.append(\"../\")\n",
    "from data_prep import collect, load, draw, save, image\n",
    "from data_prep.image import Image\n",
    "from data_prep.interp import SphericalSampler\n",
    "from solvers import branch_classifier\n",
    "import models\n",
    "DATE = datetime.now().strftime(\"%m-%d-%y\")\n",
    "DTYPE = torch.float32\n",
    "DEVICE = \"cuda:0\" if torch.cuda.is_available() else \"cpu\""
   ]
  },
  {
   "cell_type": "code",
   "execution_count": 3,
   "metadata": {},
   "outputs": [
    {
     "name": "stdout",
     "output_type": "stream",
     "text": [
      "/nafs/dtward/bryson/gold166_tifs_scaled/0661_seg.tif\n",
      "/nafs/dtward/bryson/gold166_swc_scaled/0661_seg.v3dpbd.swc\n"
     ]
    }
   ],
   "source": [
    "# choose an image and load it\n",
    "img_dir = \"/nafs/dtward/bryson/gold166_tifs_scaled/\"\n",
    "swc_dir = \"/nafs/dtward/bryson/gold166_swc_scaled/\"\n",
    "img_list = sorted(os.listdir(img_dir))\n",
    "swc_list = sorted(os.listdir(swc_dir))\n",
    "\n",
    "i = 0\n",
    "img_path = os.path.join(img_dir, img_list[i])\n",
    "swc_path = [d for d in swc_list if d.split('.')[0] == img_list[i].split('.')[0]][0]\n",
    "swc_path = os.path.join(swc_dir, swc_path)\n",
    "\n",
    "print(img_path)\n",
    "print(swc_path)\n",
    "\n",
    "\n"
   ]
  },
  {
   "cell_type": "code",
   "execution_count": 4,
   "metadata": {},
   "outputs": [
    {
     "name": "stdout",
     "output_type": "stream",
     "text": [
      "loading file: /nafs/dtward/bryson/gold166_swc_scaled/0661_seg.v3dpbd.swc\n"
     ]
    }
   ],
   "source": [
    "# get the branch points from the image\n",
    "\n",
    "swc_list = load.swc(swc_path)\n",
    "sections, section_graph = load.parse_swc(swc_list)\n",
    "branches, terminals = load.get_critical_points(swc_list, sections)\n",
    "\n",
    "img = tf.imread(img_path)\n",
    "img = Image(img[None])\n",
    "# choose a branch point\n",
    "branch_id = 0\n",
    "# load a large image patch centered on a branch point\n",
    "center = branches[branch_id, :3]\n",
    "large_patch, _ = img.crop(center, radius=49)"
   ]
  },
  {
   "cell_type": "code",
   "execution_count": 5,
   "metadata": {},
   "outputs": [
    {
     "name": "stdout",
     "output_type": "stream",
     "text": [
      "Loaded pretrained weights from /nafs/dtward/bryson/gold166_classifier_data/training_output_03-28-25_spherical_patches/resnet_classifier_03-29-25_checkpoint-30.pt\n"
     ]
    }
   ],
   "source": [
    "# load model\n",
    "classifier = models.ResNet2D(models.ResidualBlock2D, [3, 4, 6, 3], in_channels=36, num_classes=1)\n",
    "classifier = classifier.to(device=DEVICE, dtype=DTYPE)\n",
    "\n",
    "weights = \"/nafs/dtward/bryson/gold166_classifier_data/training_output_03-28-25_spherical_patches/resnet_classifier_03-29-25_checkpoint-30.pt\"\n",
    "state_dict = torch.load(weights, map_location=DEVICE)\n",
    "classifier.load_state_dict(state_dict)\n",
    "print(f\"Loaded pretrained weights from {weights}\")"
   ]
  },
  {
   "cell_type": "code",
   "execution_count": 6,
   "metadata": {},
   "outputs": [],
   "source": [
    "resolution = (180,360)\n",
    "permutations = [[-3,-2,-1],\n",
    "                [-3,-1,-2],\n",
    "                [-2,-1,-3],\n",
    "                [-2,-3,-1],\n",
    "                [-1,-3,-2],\n",
    "                [-1,-2,-3]]\n",
    "radii = torch.arange(3,34,6)\n",
    "# initialize spherical sampler\n",
    "patch_radius = int(torch.amax(radii) + 1)\n",
    "patch_shape = (patch_radius*2+1,) * 3\n",
    "spherical_sampler = SphericalSampler(input_shape=patch_shape, radii=radii, resolution=resolution)"
   ]
  },
  {
   "cell_type": "code",
   "execution_count": 7,
   "metadata": {},
   "outputs": [
    {
     "name": "stderr",
     "output_type": "stream",
     "text": [
      "Processing points:   0%|          | 0/31 [00:00<?, ?it/s]"
     ]
    },
    {
     "name": "stderr",
     "output_type": "stream",
     "text": [
      "Processing points: 100%|██████████| 31/31 [29:33<00:00, 57.22s/it]\n"
     ]
    }
   ],
   "source": [
    "Iout = np.zeros_like(large_patch)\n",
    "\n",
    "for i in tqdm(range(34, 65), desc=\"Processing points\"):\n",
    "    for j in range(34, 65):\n",
    "        for k in range(34, 65):\n",
    "            point = np.array((i, j, k))\n",
    "            patch = img.crop(point, radius=patch_radius)[0]\n",
    "            spherical_patches = []\n",
    "            for perm in permutations:\n",
    "                patch_perm = patch.permute(0, *perm)\n",
    "                spherical_patch = spherical_sampler.map_coordinates(patch_perm[None]) # output shape (N,len(radii),1,H,W)\n",
    "                spherical_patches.append(spherical_patch.squeeze(2))\n",
    "            spherical_patches = torch.cat(spherical_patches, dim=1)\n",
    "            spherical_patches = spherical_patches.to(DEVICE)\n",
    "            out = classifier(spherical_patches)\n",
    "            out = torch.sigmoid(out.squeeze())\n",
    "            Iout[0, i, j, k] = out.item()"
   ]
  },
  {
   "cell_type": "markdown",
   "metadata": {},
   "source": [
    "# view image with true branches"
   ]
  },
  {
   "cell_type": "code",
   "execution_count": 8,
   "metadata": {},
   "outputs": [],
   "source": [
    "segments = []\n",
    "for section in sections.values():\n",
    "    segments.append(section)\n",
    "segments = np.concatenate(segments)\n",
    "\n",
    "density = draw.draw_neuron_density(segments, img.data.shape[1:], scale=1.0)\n",
    "mask = draw.draw_neuron_mask(density, threshold=5.0)\n",
    "\n",
    "branch_mask = Image(torch.zeros_like(mask))\n",
    "for point in branches:\n",
    "    r = point[3].item() #/ xy_scale\n",
    "    branch_mask.draw_point(point[:3], radius=r, binary=True, value=1, channel=0)\n",
    "branch_mask_patch = branch_mask.crop(center, radius=49)[0]"
   ]
  },
  {
   "cell_type": "code",
   "execution_count": 9,
   "metadata": {},
   "outputs": [
    {
     "data": {
      "text/plain": [
       "<matplotlib.image.AxesImage at 0x7f9620a60dc0>"
      ]
     },
     "execution_count": 9,
     "metadata": {},
     "output_type": "execute_result"
    },
    {
     "data": {
      "image/png": "[encoded data removed]",
      "text/plain": [
       "<Figure size 1800x1800 with 3 Axes>"
      ]
     },
     "metadata": {},
     "output_type": "display_data"
    }
   ],
   "source": [
    "fig, ax = plt.subplots(1,3, figsize=(18,18))\n",
    "ax[0].imshow(large_patch[0].amax(0), cmap='gray')\n",
    "ax[0].imshow(branch_mask_patch[0].amax(0), alpha=0.5)\n",
    "ax[1].imshow(large_patch[0].amax(1), cmap='gray')\n",
    "ax[1].imshow(branch_mask_patch[0].amax(1), alpha=0.5)\n",
    "ax[2].imshow(large_patch[0].amax(2), cmap='gray')\n",
    "ax[2].imshow(branch_mask_patch[0].amax(2), alpha=0.5)"
   ]
  },
  {
   "cell_type": "markdown",
   "metadata": {},
   "source": [
    "# view image with classifier output"
   ]
  },
  {
   "cell_type": "code",
   "execution_count": null,
   "metadata": {},
   "outputs": [
    {
     "data": {
      "text/plain": [
       "array([0.43916544], dtype=float32)"
      ]
     },
     "execution_count": 32,
     "metadata": {},
     "output_type": "execute_result"
    }
   ],
   "source": []
  },
  {
   "cell_type": "code",
   "execution_count": 15,
   "metadata": {},
   "outputs": [
    {
     "data": {
      "text/plain": [
       "array([0.        , 0.43916544], dtype=float32)"
      ]
     },
     "execution_count": 15,
     "metadata": {},
     "output_type": "execute_result"
    }
   ],
   "source": [
    "np.unique(Iout)"
   ]
  },
  {
   "cell_type": "code",
   "execution_count": 30,
   "metadata": {},
   "outputs": [
    {
     "data": {
      "text/plain": [
       "<matplotlib.image.AxesImage at 0x7f95920bce20>"
      ]
     },
     "execution_count": 30,
     "metadata": {},
     "output_type": "execute_result"
    },
    {
     "data": {
      "image/png": "[encoded data removed]",
      "text/plain": [
       "<Figure size 1800x1800 with 3 Axes>"
      ]
     },
     "metadata": {},
     "output_type": "display_data"
    }
   ],
   "source": [
    "fig, ax = plt.subplots(1,3, figsize=(18,18))\n",
    "# ax[0].imshow(large_patch[0].amax(0), cmap='gray')\n",
    "ax[0].imshow(Iout[0,33], vmin=0.0, vmax=Iout.max())#alpha=0.5)\n",
    "# ax[1].imshow(large_patch[0].amax(1), cmap='gray')\n",
    "ax[1].imshow(Iout[0,:,49], vmin=0.0, vmax=Iout.max())#alpha=0.5)\n",
    "# ax[2].imshow(large_patch[0].amax(2), cmap='gray')\n",
    "ax[2].imshow(Iout[0,:,:,49], vmin=0.0, vmax=Iout.max())#alpha=0.5)"
   ]
  },
  {
   "cell_type": "code",
   "execution_count": null,
   "metadata": {},
   "outputs": [],
   "source": []
  }
 ],
 "metadata": {
  "kernelspec": {
   "display_name": "neurotrack",
   "language": "python",
   "name": "python3"
  },
  "language_info": {
   "codemirror_mode": {
    "name": "ipython",
    "version": 3
   },
   "file_extension": ".py",
   "mimetype": "text/x-python",
   "name": "python",
   "nbconvert_exporter": "python",
   "pygments_lexer": "ipython3",
   "version": "3.8.20"
  }
 },
 "nbformat": 4,
 "nbformat_minor": 2
}
