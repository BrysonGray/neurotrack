{
 "cells": [
  {
   "cell_type": "code",
   "execution_count": 1,
   "metadata": {},
   "outputs": [],
   "source": [
    "%load_ext autoreload\n",
    "%autoreload 2\n",
    "%matplotlib widget"
   ]
  },
  {
   "cell_type": "code",
   "execution_count": 2,
   "metadata": {},
   "outputs": [],
   "source": [
    "import numpy as np\n",
    "import torch\n",
    "import matplotlib\n",
    "from matplotlib import pyplot as plt\n",
    "import random\n",
    "import json\n",
    "import sys\n",
    "sys.path.insert(0,'/home/brysongray/tractography/')\n",
    "import dqn_tracker\n",
    "import tracking_env\n",
    "import train_dqn_tracker\n",
    "from load_data import load_data\n",
    "from tracking_env import Environment\n",
    "from dqn_tracker import DQNModel"
   ]
  },
  {
   "cell_type": "code",
   "execution_count": 3,
   "metadata": {},
   "outputs": [],
   "source": [
    "def show_state(env):\n",
    "    state = env.get_state()[0]\n",
    "    true_density_patch, _ = env.true_density.crop(env.paths[env.head_id][-1], env.radius, pad=True, n_dim=2)\n",
    "    I = np.array(env.img.data.to('cpu'))\n",
    "    D = np.array(env.true_density.data.to('cpu'))\n",
    "    O = np.array(state.to('cpu'))\n",
    "    T = np.array(true_density_patch.to('cpu'))\n",
    "    fig, ax = plt.subplots(1,4)\n",
    "    ax[0].imshow(I[-1])#, int(env.paths[env.head_id][-1, 0])])\n",
    "    ax[1].imshow(D[0])#, int(env.paths[env.head_id][-1, 0])])\n",
    "    ax[2].imshow(O[0,-1])#, env.radius//2])\n",
    "    ax[3].imshow(T[0])#, env.radius//2])\n",
    "    plt.show()\n",
    "\n",
    "def get_closest_dir(action_space, dir):\n",
    "    d = np.dot(action_space, dir[:,None])\n",
    "    idx = d.argmax()\n",
    "\n",
    "    return idx"
   ]
  },
  {
   "cell_type": "code",
   "execution_count": 9,
   "metadata": {},
   "outputs": [
    {
     "name": "stderr",
     "output_type": "stream",
     "text": [
      "\n",
      "\u001b[1;33m/home/brysongray/tractography/data/Cerebellar Climbing Fibers/Gold Standard Reconstructions/CF_1.swc:1506:warning\u001b[0m\n",
      "Warning: zero diameter in file\n",
      "\n",
      "\u001b[1;33m/home/brysongray/tractography/data/Cerebellar Climbing Fibers/Gold Standard Reconstructions/CF_1.swc:1493:warning\u001b[0m\n",
      "Warning: zero diameter in file\n",
      "\n",
      "\u001b[1;33m/home/brysongray/tractography/data/Cerebellar Climbing Fibers/Gold Standard Reconstructions/CF_1.swc:1322:warning\u001b[0m\n",
      "Warning: zero diameter in file\n",
      "\n",
      "\u001b[1;33m/home/brysongray/tractography/data/Cerebellar Climbing Fibers/Gold Standard Reconstructions/CF_1.swc:1216:warning\u001b[0m\n",
      "Warning: zero diameter in file\n",
      "\n",
      "\u001b[1;33m/home/brysongray/tractography/data/Cerebellar Climbing Fibers/Gold Standard Reconstructions/CF_1.swc:1118:warning\u001b[0m\n",
      "Warning: zero diameter in file\n",
      "\n",
      "\u001b[1;33m/home/brysongray/tractography/data/Cerebellar Climbing Fibers/Gold Standard Reconstructions/CF_1.swc:0:warning\u001b[0m\n",
      "Warning: no soma found in file\n"
     ]
    }
   ],
   "source": [
    "f = open('/home/brysongray/tractography/neuron_trx/configs/config_2d.json')\n",
    "args = json.load(f)\n",
    "\n",
    "img_file = args[\"image\"]\n",
    "label_file = args[\"label\"]\n",
    "seeds = args[\"seeds\"]\n",
    "model = args[\"model\"] if \"model\" in args else None\n",
    "n_seeds = args[\"n_seeds\"] if \"n_seeds\" in args else 1\n",
    "step_size = args[\"step_size\"] if \"step_size\" in args else 1.0\n",
    "batch_size = args[\"batchsize\"] if \"batchsize\" in args else 128\n",
    "gamma = args[\"gamma\"] if \"gamma\" in args else 0.99\n",
    "eps_start = args[\"eps_start\"] if \"eps_start\" in args else 0.9\n",
    "eps_end = args[\"eps_end\"] if \"eps_end\" in args else 0.01\n",
    "eps_decay = args[\"eps_decay\"] if \"eps_decay\" in args else 1000\n",
    "tau = args[\"tau\"] if \"tau\" in args else 0.001\n",
    "lr = args[\"lr\"] if \"lr\" in args else 1e-4\n",
    "alpha = args[\"alpha\"] if \"alpha\" in args else 1.0\n",
    "beta = args[\"beta\"] if \"beta\" in args else 1e-3\n",
    "friction = args[\"friction\"] if \"friction\" in args else 1e-4\n",
    "num_episodes = args[\"num_episodes\"] if \"num_episodes\" in args else 100\n",
    "pixelsize = args[\"pixelsize\"] if \"pixelsize\" in args else [1.0, 1.0]\n",
    "patch_radius = 12\n",
    "# actions = np.load('/home/brysongray/tractography/neuron_trx/action_space_40_dir.npy')\n",
    "thetas = torch.arange(-torch.pi, torch.pi, torch.pi/15)\n",
    "actions = torch.tensor([(-step_size*torch.cos(t), step_size*torch.sin(t)) for t in thetas])\n",
    "actions = torch.concatenate((actions, torch.tensor([[0.0,0.0]])), dim=0)\n",
    "\n",
    "img, density, mask = load_data(img_file, label_file, downsample_factor=10, binary=True)\n",
    "\n",
    "img = img.amax(dim=1)\n",
    "density = density.amax(dim=1)\n",
    "mask = mask.amax(dim=1)\n",
    "\n",
    "env = Environment(img,\n",
    "                    patch_radius,\n",
    "                    seeds,\n",
    "                    mask,\n",
    "                    density,\n",
    "                    actions,\n",
    "                    n_seeds=1,\n",
    "                    step_size=step_size,\n",
    "                    pixelsize=pixelsize,\n",
    "                    max_len=10000,\n",
    "                    alpha=alpha,\n",
    "                    beta=beta,\n",
    "                    friction=friction)\n",
    "\n",
    "dqn_model = DQNModel(in_channels=4,\n",
    "                        n_actions=len(actions),\n",
    "                        input_size=(2*patch_radius+1),\n",
    "                        lr=lr)\n",
    "\n",
    "if model:\n",
    "    dqn_model.load_model(torch.load(model))\n",
    "\n",
    "# dqn_model.train(env,\n",
    "#                 episodes=num_episodes,\n",
    "#                 batch_size=batch_size,\n",
    "#                 gamma=gamma,\n",
    "#                 tau=tau,\n",
    "#                 eps_start=eps_start,\n",
    "#                 eps_end=eps_end,\n",
    "#                 eps_decay=eps_decay,\n",
    "#                 save_snapshots=False,\n",
    "#                 show=False)\n"
   ]
  },
  {
   "cell_type": "code",
   "execution_count": 11,
   "metadata": {},
   "outputs": [],
   "source": [
    "DEVICE = 'cuda:0'"
   ]
  },
  {
   "cell_type": "code",
   "execution_count": 12,
   "metadata": {},
   "outputs": [],
   "source": [
    "steps_done = 0\n",
    "episode_durations = []\n",
    "episode_returns = []\n",
    "\n",
    "env.reset()\n",
    "state = env.get_state()[0].clone().to(dtype=torch.float32, device=DEVICE)\n",
    "ep_return = 0"
   ]
  },
  {
   "cell_type": "code",
   "execution_count": 13,
   "metadata": {},
   "outputs": [
    {
     "ename": "ValueError",
     "evalue": "not enough values to unpack (expected 3, got 2)",
     "output_type": "error",
     "traceback": [
      "\u001b[0;31m---------------------------------------------------------------------------\u001b[0m",
      "\u001b[0;31mValueError\u001b[0m                                Traceback (most recent call last)",
      "\u001b[1;32m/home/brysongray/tractography/neuron_trx/notebooks/neuron_trx_tests.ipynb Cell 7\u001b[0m line \u001b[0;36m1\n\u001b[0;32m----> <a href='vscode-notebook-cell:/home/brysongray/tractography/neuron_trx/notebooks/neuron_trx_tests.ipynb#W6sZmlsZQ%3D%3D?line=0'>1</a>\u001b[0m show_state(env)\n",
      "\u001b[1;32m/home/brysongray/tractography/neuron_trx/notebooks/neuron_trx_tests.ipynb Cell 7\u001b[0m line \u001b[0;36m3\n\u001b[1;32m      <a href='vscode-notebook-cell:/home/brysongray/tractography/neuron_trx/notebooks/neuron_trx_tests.ipynb#W6sZmlsZQ%3D%3D?line=0'>1</a>\u001b[0m \u001b[39mdef\u001b[39;00m \u001b[39mshow_state\u001b[39m(env):\n\u001b[1;32m      <a href='vscode-notebook-cell:/home/brysongray/tractography/neuron_trx/notebooks/neuron_trx_tests.ipynb#W6sZmlsZQ%3D%3D?line=1'>2</a>\u001b[0m     state \u001b[39m=\u001b[39m env\u001b[39m.\u001b[39mget_state()[\u001b[39m0\u001b[39m]\n\u001b[0;32m----> <a href='vscode-notebook-cell:/home/brysongray/tractography/neuron_trx/notebooks/neuron_trx_tests.ipynb#W6sZmlsZQ%3D%3D?line=2'>3</a>\u001b[0m     true_density_patch, _ \u001b[39m=\u001b[39m env\u001b[39m.\u001b[39;49mtrue_density\u001b[39m.\u001b[39;49mcrop(env\u001b[39m.\u001b[39;49mpaths[env\u001b[39m.\u001b[39;49mhead_id][\u001b[39m-\u001b[39;49m\u001b[39m1\u001b[39;49m], env\u001b[39m.\u001b[39;49mradius, pad\u001b[39m=\u001b[39;49m\u001b[39mTrue\u001b[39;49;00m)\n\u001b[1;32m      <a href='vscode-notebook-cell:/home/brysongray/tractography/neuron_trx/notebooks/neuron_trx_tests.ipynb#W6sZmlsZQ%3D%3D?line=3'>4</a>\u001b[0m     I \u001b[39m=\u001b[39m np\u001b[39m.\u001b[39marray(env\u001b[39m.\u001b[39mimg\u001b[39m.\u001b[39mdata\u001b[39m.\u001b[39mto(\u001b[39m'\u001b[39m\u001b[39mcpu\u001b[39m\u001b[39m'\u001b[39m))\n\u001b[1;32m      <a href='vscode-notebook-cell:/home/brysongray/tractography/neuron_trx/notebooks/neuron_trx_tests.ipynb#W6sZmlsZQ%3D%3D?line=4'>5</a>\u001b[0m     D \u001b[39m=\u001b[39m np\u001b[39m.\u001b[39marray(env\u001b[39m.\u001b[39mtrue_density\u001b[39m.\u001b[39mdata\u001b[39m.\u001b[39mto(\u001b[39m'\u001b[39m\u001b[39mcpu\u001b[39m\u001b[39m'\u001b[39m))\n",
      "File \u001b[0;32m~/tractography/image.py:53\u001b[0m, in \u001b[0;36mImage.crop\u001b[0;34m(self, center, radius, pad, value, n_dim)\u001b[0m\n\u001b[1;32m     37\u001b[0m \u001b[39m\u001b[39m\u001b[39m\"\"\" Crop an image around a center point (rounded to the nearest pixel center).\u001b[39;00m\n\u001b[1;32m     38\u001b[0m \u001b[39m    The cropped image will be smaller than the given radius if it overlaps with the image boundary.\u001b[39;00m\n\u001b[1;32m     39\u001b[0m \n\u001b[0;32m   (...)\u001b[0m\n\u001b[1;32m     50\u001b[0m \u001b[39m        Cropped image\u001b[39;00m\n\u001b[1;32m     51\u001b[0m \u001b[39m\"\"\"\u001b[39;00m\n\u001b[1;32m     52\u001b[0m \u001b[39mif\u001b[39;00m n_dim \u001b[39m==\u001b[39m \u001b[39m3\u001b[39m:\n\u001b[0;32m---> 53\u001b[0m     i,j,k \u001b[39m=\u001b[39m [\u001b[39mint\u001b[39m(x) \u001b[39mfor\u001b[39;00m x \u001b[39min\u001b[39;00m center]\n\u001b[1;32m     54\u001b[0m     shape \u001b[39m=\u001b[39m \u001b[39mself\u001b[39m\u001b[39m.\u001b[39mdata\u001b[39m.\u001b[39mshape[\u001b[39m1\u001b[39m:]\n\u001b[1;32m     55\u001b[0m     zpad_top \u001b[39m=\u001b[39m zpad_btm \u001b[39m=\u001b[39m ypad_front \u001b[39m=\u001b[39m ypad_back \u001b[39m=\u001b[39m xpad_left \u001b[39m=\u001b[39m xpad_right \u001b[39m=\u001b[39m \u001b[39m0\u001b[39m\n",
      "\u001b[0;31mValueError\u001b[0m: not enough values to unpack (expected 3, got 2)"
     ]
    }
   ],
   "source": [
    "show_state(env)"
   ]
  },
  {
   "cell_type": "code",
   "execution_count": null,
   "metadata": {},
   "outputs": [],
   "source": [
    "plt.close('all')\n",
    "action = torch.tensor([0., -1.0, 1.0])\n",
    "observation, reward, terminated = env.step(action)\n",
    "print(reward)\n",
    "show_state(env)"
   ]
  },
  {
   "cell_type": "code",
   "execution_count": null,
   "metadata": {},
   "outputs": [],
   "source": [
    "env.reset()"
   ]
  },
  {
   "cell_type": "code",
   "execution_count": null,
   "metadata": {},
   "outputs": [],
   "source": [
    "# get the index of action_space closest to a desired step direction\n",
    "action_id = get_closest_dir(env.action_space, torch.Tensor([0., 0., -1.]))\n",
    "print(action_id)\n",
    "print(env.action_space[action_id])"
   ]
  },
  {
   "cell_type": "code",
   "execution_count": null,
   "metadata": {},
   "outputs": [],
   "source": [
    "for i in range(10):\n",
    "    action_id = dqn_model.select_action(env.action_space, state, steps_done, eps_start, eps_end, eps_decay)\n",
    "    # observation, reward, terminated = env.step(env.action_space[action_id])\n",
    "\n",
    "    # step\n",
    "    terminated = False\n",
    "\n",
    "    action = env.action_space[action_id]\n",
    "    # action = torch.Tensor([0.0, 0.0, 1.0])\n",
    "\n",
    "    # add new position to path\n",
    "    env.paths[env.head_id] = torch.cat((env.paths[env.head_id], (env.paths[env.head_id][-1] + env.step_size*action)[None]))\n",
    "    # decide if path terminates\n",
    "    out_of_bound = any([x >= y or x < 0 for x,y in zip(torch.round(env.paths[env.head_id][-1]), env.img.data.shape[1:])])\n",
    "    # out_of_mask = env.mask[tuple([int(x) for x in env.paths[env.head_id][-1]])]\n",
    "    too_long = len(env.paths[env.head_id]) > env.max_len\n",
    "    self_terminate = not any(action)\n",
    "    terminate_path = out_of_bound or too_long or self_terminate\n",
    "\n",
    "    if terminate_path:\n",
    "        observation = None\n",
    "        reward = torch.tensor([0.], device=DEVICE)\n",
    "        # remove the path from 'paths' and add it to 'ended_paths'\n",
    "        env.ended_paths.append(env.paths.pop(env.head_id))\n",
    "        # if that was the last path in the list, then terminate the episode\n",
    "        if len(env.paths) == 0:\n",
    "            terminated = True\n",
    "        else:\n",
    "            env.head_id = (env.head_id + 1)%len(env.paths)\n",
    "    else:\n",
    "        center = env.paths[env.head_id][-2]\n",
    "        r = env.radius + int(np.ceil(env.step_size.max()))\n",
    "        true_density_patch, padding = env.true_density.crop(center, radius=r) # patch centered at previous step position\n",
    "        old_density_patch, _ = env.img.crop(center, radius=r)\n",
    "        old_density_patch = old_density_patch.detach().clone()[-1][None] # need to make a copy or else this will be modified by adding a point to img\n",
    "        # add_bundle_point(self.img, self.paths[self.head_id][-1], self.ball)\n",
    "        segment = env.paths[env.head_id][-2:, :3]\n",
    "        env.img.draw_line_segment(segment, width=1.0)\n",
    "        new_density_patch, _ = env.img.crop(center, radius=r)\n",
    "        new_density_patch = new_density_patch[-1][None]\n",
    "        delta_density_diff = tracking_env.density_error_change(true_density_patch, old_density_patch, new_density_patch)\n",
    "        observation = env.get_state()\n",
    "        reward = env.get_reward(terminated, delta_density_diff)\n",
    "\n",
    "        env.head_id = (env.head_id + 1)%len(env.paths)\n",
    "    # end step\n",
    "\n",
    "    ep_return += reward\n",
    "\n",
    "    if terminated: # episode terminated\n",
    "        next_state = None\n",
    "        break\n",
    "    else:\n",
    "        next_state = observation # if the streamline terminated, the observation is None\n",
    "        if next_state is not None:\n",
    "            next_state = next_state[0].clone().to(dtype=torch.float32, device=DEVICE)\n",
    "    \n",
    "    dqn_model.memory.push(state, action_id, next_state, reward)\n",
    "\n",
    "    # if not terminated, move to the next state\n",
    "    state = env.get_state()[0].to(dtype=torch.float32, device=DEVICE) # the head of the next streamline\n",
    "\n",
    "print(type(observation),'\\n',\n",
    "    reward,'\\n',\n",
    "    terminated,'\\n',\n",
    "    len(env.paths)\n",
    ")\n",
    "\n",
    "true_density = true_density_patch / (true_density_patch.sum() + np.finfo(float).eps)\n",
    "old_density = old_density_patch / (old_density_patch.sum() + np.finfo(float).eps)\n",
    "new_density = new_density_patch / (new_density_patch.sum() + np.finfo(float).eps)\n",
    "fig, ax = plt.subplots(1,3)\n",
    "ax[0].imshow(true_density[0, r-padding[0]])#, vmax=(true_density.mean() + np.finfo(float).eps))\n",
    "ax[1].imshow(old_density[0, r-padding[0]])#, vmax=(true_density.mean() + np.finfo(float).eps))\n",
    "ax[2].imshow(new_density[0, r-padding[0]])#, vmax=(true_density.mean() + np.finfo(float).eps))"
   ]
  },
  {
   "cell_type": "code",
   "execution_count": null,
   "metadata": {},
   "outputs": [],
   "source": [
    "show_state(env)"
   ]
  },
  {
   "cell_type": "code",
   "execution_count": null,
   "metadata": {},
   "outputs": [],
   "source": [
    "# Store the transition in memory\n",
    "dqn_model.memory.push(state, action_id, next_state, reward)"
   ]
  },
  {
   "cell_type": "code",
   "execution_count": null,
   "metadata": {},
   "outputs": [],
   "source": [
    "# Perform one step of the optimization (on the policy network)\n",
    "dqn_model.optimize_model(batch_size, gamma)"
   ]
  },
  {
   "cell_type": "code",
   "execution_count": null,
   "metadata": {},
   "outputs": [],
   "source": [
    "# Soft update of the target network's weights\n",
    "# θ′ ← τ θ + (1 −τ )θ′\n",
    "target_net_state_dict = dqn_model.target_net.state_dict()\n",
    "policy_net_state_dict = dqn_model.policy_net.state_dict()\n",
    "for key in policy_net_state_dict:\n",
    "    target_net_state_dict[key] = policy_net_state_dict[key]*tau + target_net_state_dict[key]*(1-tau)\n",
    "dqn_model.target_net.load_state_dict(target_net_state_dict)"
   ]
  },
  {
   "cell_type": "code",
   "execution_count": null,
   "metadata": {},
   "outputs": [],
   "source": [
    "if terminated:\n",
    "    episode_durations.append(t + 1)\n",
    "    episode_returns.append(ep_return)\n",
    "    print('Terminated')"
   ]
  },
  {
   "cell_type": "code",
   "execution_count": null,
   "metadata": {},
   "outputs": [],
   "source": []
  },
  {
   "cell_type": "code",
   "execution_count": null,
   "metadata": {},
   "outputs": [],
   "source": [
    "config_path = \"/home/brysongray/tractography/neuron_trx/configs/config.json\"\n",
    "f = open(config_path)\n",
    "config = json.load(f)\n",
    "print(type(config))"
   ]
  },
  {
   "cell_type": "code",
   "execution_count": null,
   "metadata": {},
   "outputs": [],
   "source": [
    "train_dqn_tracker.main(config)"
   ]
  },
  {
   "cell_type": "code",
   "execution_count": null,
   "metadata": {},
   "outputs": [],
   "source": [
    "fname = '/home/brysongray/tractography/outputs/bundle_density_ep3220.pt'\n",
    "density = torch.load(fname)\n",
    "print(density.shape)"
   ]
  },
  {
   "cell_type": "code",
   "execution_count": null,
   "metadata": {},
   "outputs": [],
   "source": [
    "plt.close('all')"
   ]
  },
  {
   "cell_type": "code",
   "execution_count": null,
   "metadata": {},
   "outputs": [],
   "source": [
    "# fig, ax = plt.subplots(1,2)\n",
    "# ax[0].imshow(density[19])\n",
    "# ax[1].imshow(env.true_density[0,19])\n",
    "plt.figure()\n",
    "vmax1 = np.percentile(density[19], 100)\n",
    "vmax2 = np.percentile(env.true_density[0,19], 100)\n",
    "D = density[19] / vmax1\n",
    "T = env.true_density[0,19] / vmax2\n",
    "plt.imshow(D, cmap='hot', alpha=0.7)#, vmax=vmax1)\n",
    "plt.imshow(T, cmap='gray', alpha=0.3)#, vmax=vmax2)\n"
   ]
  },
  {
   "cell_type": "code",
   "execution_count": null,
   "metadata": {},
   "outputs": [],
   "source": [
    "step_size = 1.0\n",
    "thetas = torch.arange(-torch.pi, torch.pi, torch.pi/15)\n",
    "actions = torch.tensor([(-step_size*torch.cos(t), step_size*torch.sin(t)) for t in thetas])\n",
    "actions = torch.concatenate((actions, torch.tensor([[0.0,0.0]])), dim=0)"
   ]
  },
  {
   "cell_type": "code",
   "execution_count": null,
   "metadata": {},
   "outputs": [],
   "source": [
    "img, density, mask = load_data(img_file, label_file, downsample_factor=10)"
   ]
  },
  {
   "cell_type": "code",
   "execution_count": null,
   "metadata": {},
   "outputs": [],
   "source": [
    "mask = mask.amax(dim=1)\n",
    "mask.shape"
   ]
  },
  {
   "cell_type": "code",
   "execution_count": null,
   "metadata": {},
   "outputs": [],
   "source": [
    "density.shape\n",
    "density = density.amax(dim=1)\n",
    "print(density.shape)"
   ]
  },
  {
   "cell_type": "code",
   "execution_count": null,
   "metadata": {},
   "outputs": [],
   "source": [
    "img.shape\n",
    "img = img.amax(dim=1)\n",
    "print(img.shape)"
   ]
  }
 ],
 "metadata": {
  "kernelspec": {
   "display_name": "tractography",
   "language": "python",
   "name": "python3"
  },
  "language_info": {
   "codemirror_mode": {
    "name": "ipython",
    "version": 3
   },
   "file_extension": ".py",
   "mimetype": "text/x-python",
   "name": "python",
   "nbconvert_exporter": "python",
   "pygments_lexer": "ipython3",
   "version": "3.11.5"
  },
  "orig_nbformat": 4
 },
 "nbformat": 4,
 "nbformat_minor": 2
}
